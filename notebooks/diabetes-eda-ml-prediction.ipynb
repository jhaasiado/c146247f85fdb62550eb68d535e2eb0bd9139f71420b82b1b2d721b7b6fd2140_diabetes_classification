{
 "cells": [
  {
   "cell_type": "markdown",
   "id": "0",
   "metadata": {
    "papermill": {
     "duration": 0.051356,
     "end_time": "2023-07-24T08:34:58.087097",
     "exception": false,
     "start_time": "2023-07-24T08:34:58.035741",
     "status": "completed"
    },
    "tags": []
   },
   "source": [
    "![](https://media.tegna-media.com/assets/WNEP/images/c5383479-1ee1-43d8-84aa-680322a8a778/c5383479-1ee1-43d8-84aa-680322a8a778_1920x1080.jpg)"
   ]
  },
  {
   "cell_type": "markdown",
   "id": "1",
   "metadata": {
    "papermill": {
     "duration": 0.050732,
     "end_time": "2023-07-24T08:34:58.189954",
     "exception": false,
     "start_time": "2023-07-24T08:34:58.139222",
     "status": "completed"
    },
    "tags": []
   },
   "source": [
    "# Business Problem"
   ]
  },
  {
   "cell_type": "markdown",
   "id": "2",
   "metadata": {
    "papermill": {
     "duration": 0.050648,
     "end_time": "2023-07-24T08:34:58.291347",
     "exception": false,
     "start_time": "2023-07-24T08:34:58.240699",
     "status": "completed"
    },
    "tags": []
   },
   "source": [
    "- Predicting whether people have diabetes when their characteristics are specified to develop a machine learning model that is capable of learning from a machine learning model."
   ]
  },
  {
   "cell_type": "markdown",
   "id": "3",
   "metadata": {
    "papermill": {
     "duration": 0.051141,
     "end_time": "2023-07-24T08:34:58.392917",
     "exception": false,
     "start_time": "2023-07-24T08:34:58.341776",
     "status": "completed"
    },
    "tags": []
   },
   "source": [
    "# Dataset Story"
   ]
  },
  {
   "cell_type": "markdown",
   "id": "4",
   "metadata": {
    "papermill": {
     "duration": 0.050345,
     "end_time": "2023-07-24T08:34:58.493764",
     "exception": false,
     "start_time": "2023-07-24T08:34:58.443419",
     "status": "completed"
    },
    "tags": []
   },
   "source": [
    "- The dataset is part of a larger dataset held at the National Institutes of Diabetes-Digestive-Kidney Diseases in the US. In the US\n",
    "  Pima Indian women aged 21 years and older living in Phoenix, the 5th largest city in the State of Arizona\n",
    "  are the data used for diabetes research.\n",
    "  \n",
    "- The target variable is specified as \"outcome\", where 1 indicates a positive diabetes test result and 0 indicates a negative result.\n",
    "\n",
    "- **Pregnancies:** Number of pregnancies\n",
    "\n",
    "- **Glucose:** 2-hour plasma glucose concentration in oral glucose tolerance test\n",
    "\n",
    "- **Blood Pressure:** Blood Pressure (small blood pressure) (mm Hg)\n",
    "\n",
    "- **SkinThickness:** Skin Thickness\n",
    "\n",
    "- **Insulin:** 2-hour serum insulin (mu U/ml)\n",
    "\n",
    "- **DiabetesPedigreeFunction:** Function (2-hour plasma glucose concentration in oral glucose tolerance test)\n",
    "\n",
    "- **BMI:** Body mass index\n",
    "\n",
    "- **Age:** Age (years)\n",
    "\n",
    "- **Outcome:** Have the disease (1) or not (0)"
   ]
  },
  {
   "cell_type": "markdown",
   "id": "5",
   "metadata": {
    "papermill": {
     "duration": 0.05027,
     "end_time": "2023-07-24T08:34:58.594377",
     "exception": false,
     "start_time": "2023-07-24T08:34:58.544107",
     "status": "completed"
    },
    "tags": []
   },
   "source": [
    "# Road Map\n",
    "\n",
    "- 1.Import Required Libraries\n",
    "- 2.Adjusting Row Column Settings\n",
    "- 3.Loading the data Set\n",
    "- 4.Exploratory Data Analysis\n",
    "- 5.Capturing / Detecting Numeric and Categorical Variables\n",
    "- 6.Analysis of Categorical Variables\n",
    "- 7.Analysis of Numerical Variables\n",
    "- 8.Analysis of Categorical Variables by Target\n",
    "- 9.Analysis of Numeric Variables by Target\n",
    "- 10.Examining the Logarithm of the Dependent Variable\n",
    "- 11.Correlation Analysis\n",
    "- 12.The Relationship Between Variables\n",
    "- 13.Base Model Before Feature Engineering\n",
    "    - 13.1.RandomForestClassifier\n",
    "    - 13.2.Logistic Regression\n",
    "    - 13.3.K-Nearest Neighbors (KNN)\n",
    "    - 13.4.Support Vector Classifier (SVC)\n",
    "    - 13.5.Decision Tree Classifier\n",
    "    - 13.6.AdaBoost Classifier\n",
    "    - 13.7.Gradient Boosting Classifier\n",
    "    - 13.8.XGBoost Classifier\n",
    "    - 13.9.LightGBM Classifier\n",
    "    - 13.10.Comparison of Metrics for Different Models\n",
    "    - 13.11.Visualization of the Decision Tree\n",
    "    - 13.12.Plot Importance of Variables According to Base Model\n",
    "- 14.Feature Engineering\n",
    "- 15.Missing Value Analysis\n",
    "- 16.Outlier Analysis\n",
    "- 17.Feature Extraction\n",
    "- 18.Encoding\n",
    "- 19.Standardization Process\n",
    "- 20.Model Building\n",
    "    - 20.1.RandomForestClassifier\n",
    "    - 20.1.1.Random Forest Classifier Hyperparameter Optimization\n",
    "    - 20.2.Logistic Regression\n",
    "    - 20.2.1.Logistic Regression Hyperparameter Optimization\n",
    "    - 20.3.K-Nearest Neighbors (KNN)\n",
    "        - 20.3.1.K-Nearest Neighbors (KNN) Hyperparameter Optimization\n",
    "    - 20.4.Support Vector Classifier (SVC)\n",
    "        - 20.4.1.Support Vector Classifier (SVC) Hyperparameter Optimization\n",
    "    - 20.5.Decision Tree Classifier\n",
    "        - 20.5.1.Decision Tree Classifier Hyperparameter Optimization\n",
    "    - 20.6.AdaBoost Classifier\n",
    "        - 20.6.1.AdaBoost Classifier Hyperparameter Optimization\n",
    "    - 20.7.Gradient Boosting Classifier\n",
    "        - 20.7.1.Gradient Boosting Classifier Hyperparameter Optimization\n",
    "    - 20.8.XGBoost Classifier Hyperparameter Optimization\n",
    "    - 20.9.LightGBM Classifier\n",
    "        - 20.9.1.LightGBM Classifier Hyperparameter Optimization\n",
    "    - 20.10.Comparison of Metrics for Different Models After Feature Engineering\n",
    "    - 20.11.Comparison of Metrics for Different Models After Hyperparameter Optimization\n",
    "    - 20.12.Comparison of Metrics Before and After Hyperparameter Optimization"
   ]
  },
  {
   "cell_type": "markdown",
   "id": "6",
   "metadata": {
    "papermill": {
     "duration": 0.050211,
     "end_time": "2023-07-24T08:34:58.694997",
     "exception": false,
     "start_time": "2023-07-24T08:34:58.644786",
     "status": "completed"
    },
    "tags": []
   },
   "source": [
    "# 1. Import Required Libraries"
   ]
  },
  {
   "cell_type": "code",
   "execution_count": null,
   "id": "7",
   "metadata": {
    "papermill": {
     "duration": 4.267124,
     "end_time": "2023-07-24T08:35:03.012727",
     "exception": false,
     "start_time": "2023-07-24T08:34:58.745603",
     "status": "completed"
    },
    "tags": []
   },
   "outputs": [],
   "source": [
    "import itertools\n",
    "import warnings\n",
    "\n",
    "import matplotlib.pyplot as plt\n",
    "import numpy as np\n",
    "import pandas as pd\n",
    "import plotly.express as px\n",
    "import plotly.graph_objects as go\n",
    "import seaborn as sns\n",
    "from lightgbm import LGBMClassifier\n",
    "from sklearn import tree\n",
    "from sklearn.ensemble import AdaBoostClassifier, GradientBoostingClassifier, RandomForestClassifier\n",
    "from sklearn.impute import KNNImputer\n",
    "from sklearn.linear_model import LogisticRegression\n",
    "from sklearn.metrics import accuracy_score, f1_score, precision_score, recall_score, roc_auc_score\n",
    "from sklearn.model_selection import GridSearchCV, train_test_split\n",
    "from sklearn.neighbors import KNeighborsClassifier\n",
    "from sklearn.preprocessing import LabelEncoder, RobustScaler\n",
    "from sklearn.svm import SVC\n",
    "from sklearn.tree import DecisionTreeClassifier\n",
    "from xgboost import XGBClassifier\n",
    "\n",
    "warnings.simplefilter(action=\"ignore\")\n"
   ]
  },
  {
   "cell_type": "markdown",
   "id": "8",
   "metadata": {
    "papermill": {
     "duration": 0.050966,
     "end_time": "2023-07-24T08:35:03.114812",
     "exception": false,
     "start_time": "2023-07-24T08:35:03.063846",
     "status": "completed"
    },
    "tags": []
   },
   "source": [
    "# 2. Adjusting Row Column Settings"
   ]
  },
  {
   "cell_type": "code",
   "execution_count": null,
   "id": "9",
   "metadata": {
    "papermill": {
     "duration": 0.061476,
     "end_time": "2023-07-24T08:35:03.227821",
     "exception": false,
     "start_time": "2023-07-24T08:35:03.166345",
     "status": "completed"
    },
    "tags": []
   },
   "outputs": [],
   "source": [
    "pd.set_option('display.max_columns', None)\n",
    "pd.set_option('display.width', None)\n",
    "pd.set_option('display.max_rows', 20)\n",
    "pd.set_option('display.float_format', lambda x: '%.3f' % x)"
   ]
  },
  {
   "cell_type": "markdown",
   "id": "10",
   "metadata": {
    "papermill": {
     "duration": 0.050941,
     "end_time": "2023-07-24T08:35:03.330445",
     "exception": false,
     "start_time": "2023-07-24T08:35:03.279504",
     "status": "completed"
    },
    "tags": []
   },
   "source": [
    "# 3. Loading the data Set"
   ]
  },
  {
   "cell_type": "code",
   "execution_count": null,
   "id": "11",
   "metadata": {
    "papermill": {
     "duration": 0.078687,
     "end_time": "2023-07-24T08:35:03.460261",
     "exception": false,
     "start_time": "2023-07-24T08:35:03.381574",
     "status": "completed"
    },
    "tags": []
   },
   "outputs": [],
   "source": [
    "df = pd.read_csv(\"/kaggle/input/diabetes-dataset/diabetes.csv\")"
   ]
  },
  {
   "cell_type": "markdown",
   "id": "12",
   "metadata": {
    "papermill": {
     "duration": 0.050908,
     "end_time": "2023-07-24T08:35:03.563502",
     "exception": false,
     "start_time": "2023-07-24T08:35:03.512594",
     "status": "completed"
    },
    "tags": []
   },
   "source": [
    "# 4. Exploratory Data Analysis"
   ]
  },
  {
   "cell_type": "code",
   "execution_count": null,
   "id": "13",
   "metadata": {
    "papermill": {
     "duration": 0.091352,
     "end_time": "2023-07-24T08:35:03.706204",
     "exception": false,
     "start_time": "2023-07-24T08:35:03.614852",
     "status": "completed"
    },
    "tags": []
   },
   "outputs": [],
   "source": [
    "def check_df(dataframe, head=5):\n",
    "    print(\"##################### Shape #####################\")\n",
    "    print(dataframe.shape)\n",
    "    print(\"##################### Types #####################\")\n",
    "    print(dataframe.dtypes)\n",
    "    print(\"##################### Head #####################\")\n",
    "    print(dataframe.head(head))\n",
    "    print(\"##################### Tail #####################\")\n",
    "    print(dataframe.tail(head))\n",
    "    print(\"##################### NA #####################\")\n",
    "    print(dataframe.isnull().sum())\n",
    "    print(\"##################### Quantiles #####################\")\n",
    "    print(dataframe.quantile([0, 0.05, 0.50, 0.95, 0.99, 1]).T)\n",
    "\n",
    "check_df(df)"
   ]
  },
  {
   "cell_type": "markdown",
   "id": "14",
   "metadata": {
    "papermill": {
     "duration": 0.050867,
     "end_time": "2023-07-24T08:35:03.808202",
     "exception": false,
     "start_time": "2023-07-24T08:35:03.757335",
     "status": "completed"
    },
    "tags": []
   },
   "source": [
    "# 5. Capturing / Detecting Numeric and Categorical Variables"
   ]
  },
  {
   "cell_type": "code",
   "execution_count": null,
   "id": "15",
   "metadata": {
    "papermill": {
     "duration": 0.069301,
     "end_time": "2023-07-24T08:35:03.928999",
     "exception": false,
     "start_time": "2023-07-24T08:35:03.859698",
     "status": "completed"
    },
    "tags": []
   },
   "outputs": [],
   "source": [
    "def grab_col_names(dataframe, cat_th=10, car_th=20):\n",
    "    \"\"\"\n",
    "\n",
    "    Returns the names of categorical, numeric and categorical but cardinal variables in the data set.\n",
    "    Note Categorical variables include categorical variables with numeric appearance.\n",
    "\n",
    "    Parameters\n",
    "    ------\n",
    "        dataframe: dataframe\n",
    "                Variable names of the dataframe to be taken\n",
    "        cat_th: int, optional\n",
    "                class threshold for numeric but categorical variables\n",
    "        car_th: int, optinal\n",
    "                class threshold for categorical but cardinal variables\n",
    "\n",
    "    Returns\n",
    "    ------\n",
    "        cat_cols: list\n",
    "                Categorical variable list\n",
    "        num_cols: list\n",
    "                Numeric variable list\n",
    "        cat_but_car: list\n",
    "                List of cardinal variables with categorical appearance\n",
    "\n",
    "    Examples\n",
    "    ------\n",
    "        import seaborn as sns\n",
    "        df = sns.load_dataset(\"iris\")\n",
    "        print(grab_col_names(df))\n",
    "\n",
    "\n",
    "    Notes\n",
    "    ------\n",
    "        cat_cols + num_cols + cat_but_car = total number of variables\n",
    "        num_but_cat is inside cat_cols.\n",
    "        The sum of the 3 return lists equals the total number of variables: cat_cols + num_cols + cat_but_car = number of variables\n",
    "\n",
    "    \"\"\"\n",
    "\n",
    "    # cat_cols, cat_but_car\n",
    "    cat_cols = [col for col in dataframe.columns if dataframe[col].dtypes == \"O\"] \n",
    "\n",
    "    num_but_cat = [col for col in dataframe.columns if dataframe[col].nunique() < cat_th and\n",
    "                   dataframe[col].dtypes != \"O\"]\n",
    "\n",
    "    cat_but_car = [col for col in dataframe.columns if dataframe[col].nunique() > car_th and\n",
    "                   dataframe[col].dtypes == \"O\"]\n",
    "\n",
    "    cat_cols = cat_cols + num_but_cat\n",
    "\n",
    "    cat_cols = [col for col in cat_cols if col not in cat_but_car] \n",
    "\n",
    "    num_cols = [col for col in dataframe.columns if dataframe[col].dtypes != \"O\"] \n",
    "\n",
    "    num_cols = [col for col in num_cols if col not in num_but_cat] \n",
    "    \n",
    "    print(f\"Observations: {dataframe.shape[0]}\") \n",
    "    print(f\"Variables: {dataframe.shape[1]}\") \n",
    "    print(f'cat_cols: {len(cat_cols)}') \n",
    "    print(f'num_cols: {len(num_cols)}') \n",
    "    print(f'cat_but_car: {len(cat_but_car)}') \n",
    "    print(f'num_but_cat: {len(num_but_cat)}') \n",
    "\n",
    "\n",
    "    return cat_cols, num_cols, cat_but_car, num_but_cat"
   ]
  },
  {
   "cell_type": "code",
   "execution_count": null,
   "id": "16",
   "metadata": {
    "papermill": {
     "duration": 0.066837,
     "end_time": "2023-07-24T08:35:04.046981",
     "exception": false,
     "start_time": "2023-07-24T08:35:03.980144",
     "status": "completed"
    },
    "tags": []
   },
   "outputs": [],
   "source": [
    "cat_cols, num_cols, cat_but_car,  num_but_cat = grab_col_names(df)"
   ]
  },
  {
   "cell_type": "code",
   "execution_count": null,
   "id": "17",
   "metadata": {
    "papermill": {
     "duration": 0.063743,
     "end_time": "2023-07-24T08:35:04.162641",
     "exception": false,
     "start_time": "2023-07-24T08:35:04.098898",
     "status": "completed"
    },
    "tags": []
   },
   "outputs": [],
   "source": [
    "cat_cols"
   ]
  },
  {
   "cell_type": "code",
   "execution_count": null,
   "id": "18",
   "metadata": {
    "papermill": {
     "duration": 0.061985,
     "end_time": "2023-07-24T08:35:04.276157",
     "exception": false,
     "start_time": "2023-07-24T08:35:04.214172",
     "status": "completed"
    },
    "tags": []
   },
   "outputs": [],
   "source": [
    "num_cols"
   ]
  },
  {
   "cell_type": "code",
   "execution_count": null,
   "id": "19",
   "metadata": {
    "papermill": {
     "duration": 0.062329,
     "end_time": "2023-07-24T08:35:04.390788",
     "exception": false,
     "start_time": "2023-07-24T08:35:04.328459",
     "status": "completed"
    },
    "tags": []
   },
   "outputs": [],
   "source": [
    "cat_but_car"
   ]
  },
  {
   "cell_type": "code",
   "execution_count": null,
   "id": "20",
   "metadata": {
    "papermill": {
     "duration": 0.064906,
     "end_time": "2023-07-24T08:35:04.508131",
     "exception": false,
     "start_time": "2023-07-24T08:35:04.443225",
     "status": "completed"
    },
    "tags": []
   },
   "outputs": [],
   "source": [
    "num_but_cat"
   ]
  },
  {
   "cell_type": "markdown",
   "id": "21",
   "metadata": {
    "papermill": {
     "duration": 0.052304,
     "end_time": "2023-07-24T08:35:04.615356",
     "exception": false,
     "start_time": "2023-07-24T08:35:04.563052",
     "status": "completed"
    },
    "tags": []
   },
   "source": [
    "# 6. Analysis of Categorical Variables"
   ]
  },
  {
   "cell_type": "code",
   "execution_count": null,
   "id": "22",
   "metadata": {
    "papermill": {
     "duration": 0.062796,
     "end_time": "2023-07-24T08:35:04.731047",
     "exception": false,
     "start_time": "2023-07-24T08:35:04.668251",
     "status": "completed"
    },
    "tags": []
   },
   "outputs": [],
   "source": [
    "def cat_summary(dataframe, col_name, plot=False):\n",
    "    print(pd.DataFrame({col_name: dataframe[col_name].value_counts(),\n",
    "                        \"Ratio\": 100 * dataframe[col_name].value_counts() / len(dataframe)}))\n",
    "    print(\"##########################################\")\n",
    "    if plot:\n",
    "        sns.countplot(x=dataframe[col_name], data=dataframe)\n",
    "        plt.show(block=True)"
   ]
  },
  {
   "cell_type": "code",
   "execution_count": null,
   "id": "23",
   "metadata": {
    "papermill": {
     "duration": 0.306442,
     "end_time": "2023-07-24T08:35:05.089246",
     "exception": false,
     "start_time": "2023-07-24T08:35:04.782804",
     "status": "completed"
    },
    "tags": []
   },
   "outputs": [],
   "source": [
    "# We did it this way because there is only one categorical variable.\n",
    "\n",
    "cat_summary(df, \"Outcome\", plot=True)"
   ]
  },
  {
   "cell_type": "code",
   "execution_count": null,
   "id": "24",
   "metadata": {
    "papermill": {
     "duration": 0.276177,
     "end_time": "2023-07-24T08:35:05.417891",
     "exception": false,
     "start_time": "2023-07-24T08:35:05.141714",
     "status": "completed"
    },
    "tags": []
   },
   "outputs": [],
   "source": [
    "# If there were more than one categorical variable, we would loop through all categorical variables one by one as follows to run the function.\n",
    "\n",
    "for col in cat_cols:\n",
    "    cat_summary(df, col, plot=True)"
   ]
  },
  {
   "cell_type": "markdown",
   "id": "25",
   "metadata": {
    "papermill": {
     "duration": 0.053884,
     "end_time": "2023-07-24T08:35:05.526153",
     "exception": false,
     "start_time": "2023-07-24T08:35:05.472269",
     "status": "completed"
    },
    "tags": []
   },
   "source": [
    "# 7. Analysis of Numerical Variables"
   ]
  },
  {
   "cell_type": "code",
   "execution_count": null,
   "id": "26",
   "metadata": {
    "papermill": {
     "duration": 0.085289,
     "end_time": "2023-07-24T08:35:05.669948",
     "exception": false,
     "start_time": "2023-07-24T08:35:05.584659",
     "status": "completed"
    },
    "tags": []
   },
   "outputs": [],
   "source": [
    "def num_summary(dataframe, numerical_col, plot=False):\n",
    "    quantiles = [0.05, 0.10, 0.20, 0.30, 0.40, 0.50, 0.60, 0.70, 0.80, 0.90, 0.95, 0.99]\n",
    "    print(dataframe[numerical_col].describe(quantiles).T)\n",
    "\n",
    "    if plot:\n",
    "        dataframe[numerical_col].hist(bins=20)\n",
    "        plt.xlabel(numerical_col)\n",
    "        plt.title(numerical_col)\n",
    "        plt.show(block=True)"
   ]
  },
  {
   "cell_type": "code",
   "execution_count": null,
   "id": "27",
   "metadata": {
    "papermill": {
     "duration": 2.795244,
     "end_time": "2023-07-24T08:35:08.517929",
     "exception": false,
     "start_time": "2023-07-24T08:35:05.722685",
     "status": "completed"
    },
    "tags": []
   },
   "outputs": [],
   "source": [
    "for col in num_cols:\n",
    "    num_summary(df, col, plot=True)"
   ]
  },
  {
   "cell_type": "markdown",
   "id": "28",
   "metadata": {
    "papermill": {
     "duration": 0.056444,
     "end_time": "2023-07-24T08:35:08.632085",
     "exception": false,
     "start_time": "2023-07-24T08:35:08.575641",
     "status": "completed"
    },
    "tags": []
   },
   "source": [
    "# 8. Analysis of Categorical Variables by Target"
   ]
  },
  {
   "cell_type": "code",
   "execution_count": null,
   "id": "29",
   "metadata": {
    "papermill": {
     "duration": 0.068607,
     "end_time": "2023-07-24T08:35:08.757525",
     "exception": false,
     "start_time": "2023-07-24T08:35:08.688918",
     "status": "completed"
    },
    "tags": []
   },
   "outputs": [],
   "source": [
    "def target_summary_with_cat(dataframe, target, categorical_col, plot=False):\n",
    "    print(pd.DataFrame({'TARGET_MEAN': dataframe.groupby(categorical_col)[target].mean()}), end='\\n\\n\\n')\n",
    "    if plot:\n",
    "        sns.barplot(x=categorical_col, y=target, data=dataframe)\n",
    "        plt.show(block=True)"
   ]
  },
  {
   "cell_type": "code",
   "execution_count": null,
   "id": "30",
   "metadata": {
    "papermill": {
     "duration": 0.361602,
     "end_time": "2023-07-24T08:35:09.176309",
     "exception": false,
     "start_time": "2023-07-24T08:35:08.814707",
     "status": "completed"
    },
    "tags": []
   },
   "outputs": [],
   "source": [
    "for col in cat_cols:\n",
    "    target_summary_with_cat(df, \"Outcome\", col, plot=True)"
   ]
  },
  {
   "cell_type": "markdown",
   "id": "31",
   "metadata": {
    "papermill": {
     "duration": 0.057082,
     "end_time": "2023-07-24T08:35:09.292504",
     "exception": false,
     "start_time": "2023-07-24T08:35:09.235422",
     "status": "completed"
    },
    "tags": []
   },
   "source": [
    "# 9. Analysis of Numeric Variables by Target"
   ]
  },
  {
   "cell_type": "code",
   "execution_count": null,
   "id": "32",
   "metadata": {
    "papermill": {
     "duration": 0.068684,
     "end_time": "2023-07-24T08:35:09.418859",
     "exception": false,
     "start_time": "2023-07-24T08:35:09.350175",
     "status": "completed"
    },
    "tags": []
   },
   "outputs": [],
   "source": [
    "def target_summary_with_num(dataframe, target, numerical_col, plot=False):\n",
    "    print(pd.DataFrame({numerical_col+'_mean': dataframe.groupby(target)[numerical_col].mean()}), end='\\n\\n\\n')\n",
    "    if plot:\n",
    "        sns.barplot(x=target, y=numerical_col, data=dataframe)\n",
    "        plt.show(block=True)"
   ]
  },
  {
   "cell_type": "code",
   "execution_count": null,
   "id": "33",
   "metadata": {
    "papermill": {
     "duration": 2.35388,
     "end_time": "2023-07-24T08:35:11.831230",
     "exception": false,
     "start_time": "2023-07-24T08:35:09.477350",
     "status": "completed"
    },
    "tags": []
   },
   "outputs": [],
   "source": [
    "for col in num_cols:\n",
    "    target_summary_with_num(df, \"Outcome\", col, plot=True)"
   ]
  },
  {
   "cell_type": "markdown",
   "id": "34",
   "metadata": {
    "papermill": {
     "duration": 0.060594,
     "end_time": "2023-07-24T08:35:11.953325",
     "exception": false,
     "start_time": "2023-07-24T08:35:11.892731",
     "status": "completed"
    },
    "tags": []
   },
   "source": [
    "# 10. Examining the Logarithm of the Dependent Variable"
   ]
  },
  {
   "cell_type": "code",
   "execution_count": null,
   "id": "35",
   "metadata": {
    "papermill": {
     "duration": 0.390546,
     "end_time": "2023-07-24T08:35:12.405503",
     "exception": false,
     "start_time": "2023-07-24T08:35:12.014957",
     "status": "completed"
    },
    "tags": []
   },
   "outputs": [],
   "source": [
    "np.log1p(df[\"Outcome\"]).hist(bins=50)\n",
    "plt.show(block=True)"
   ]
  },
  {
   "cell_type": "markdown",
   "id": "36",
   "metadata": {
    "papermill": {
     "duration": 0.062665,
     "end_time": "2023-07-24T08:35:12.530190",
     "exception": false,
     "start_time": "2023-07-24T08:35:12.467525",
     "status": "completed"
    },
    "tags": []
   },
   "source": [
    "# 11. Correlation Analysis"
   ]
  },
  {
   "cell_type": "code",
   "execution_count": null,
   "id": "37",
   "metadata": {
    "papermill": {
     "duration": 0.072478,
     "end_time": "2023-07-24T08:35:12.663940",
     "exception": false,
     "start_time": "2023-07-24T08:35:12.591462",
     "status": "completed"
    },
    "tags": []
   },
   "outputs": [],
   "source": [
    "corr = df[num_cols].corr()"
   ]
  },
  {
   "cell_type": "code",
   "execution_count": null,
   "id": "38",
   "metadata": {
    "papermill": {
     "duration": 0.080575,
     "end_time": "2023-07-24T08:35:12.805062",
     "exception": false,
     "start_time": "2023-07-24T08:35:12.724487",
     "status": "completed"
    },
    "tags": []
   },
   "outputs": [],
   "source": [
    "corr"
   ]
  },
  {
   "cell_type": "code",
   "execution_count": null,
   "id": "39",
   "metadata": {
    "papermill": {
     "duration": 0.763905,
     "end_time": "2023-07-24T08:35:13.630142",
     "exception": false,
     "start_time": "2023-07-24T08:35:12.866237",
     "status": "completed"
    },
    "tags": []
   },
   "outputs": [],
   "source": [
    "# Correlation heatmap without using functions\n",
    "\n",
    "sns.set(rc={\"figure.figsize\": (12, 12)})\n",
    "corr_values = corr.round(2)\n",
    "sns.heatmap(corr, cmap=\"RdBu\", annot=corr_values)\n",
    "plt.show(block=True)"
   ]
  },
  {
   "cell_type": "code",
   "execution_count": null,
   "id": "40",
   "metadata": {
    "papermill": {
     "duration": 0.075843,
     "end_time": "2023-07-24T08:35:13.769133",
     "exception": false,
     "start_time": "2023-07-24T08:35:13.693290",
     "status": "completed"
    },
    "tags": []
   },
   "outputs": [],
   "source": [
    "# Creation of correlation heat map using the function\n",
    "\n",
    "def high_correlated_cols(dataframe, plot=False, corr_th=0.70):\n",
    "    corr = dataframe.corr()\n",
    "    cor_matrix = corr.abs()\n",
    "    upper_triangle_matrix = cor_matrix.where(np.triu(np.ones(cor_matrix.shape), k=1).astype(np.bool))\n",
    "    drop_list = [col for col in upper_triangle_matrix.columns if any(upper_triangle_matrix[col] > corr_th)]\n",
    "    if plot:\n",
    "        import matplotlib.pyplot as plt\n",
    "        import seaborn as sns\n",
    "        sns.set(rc={\"figure.figsize\": (12, 12)})\n",
    "        corr_values = corr.round(2)\n",
    "        sns.heatmap(corr, cmap=\"RdBu\", annot=corr_values)\n",
    "        plt.show(block=True)\n",
    "    return drop_list"
   ]
  },
  {
   "cell_type": "code",
   "execution_count": null,
   "id": "41",
   "metadata": {
    "papermill": {
     "duration": 0.82786,
     "end_time": "2023-07-24T08:35:14.659797",
     "exception": false,
     "start_time": "2023-07-24T08:35:13.831937",
     "status": "completed"
    },
    "tags": []
   },
   "outputs": [],
   "source": [
    "high_correlated_cols(df, plot=True)"
   ]
  },
  {
   "cell_type": "markdown",
   "id": "42",
   "metadata": {
    "papermill": {
     "duration": 0.063438,
     "end_time": "2023-07-24T08:35:14.787156",
     "exception": false,
     "start_time": "2023-07-24T08:35:14.723718",
     "status": "completed"
    },
    "tags": []
   },
   "source": [
    "# 12. The Relationship Between Variables"
   ]
  },
  {
   "cell_type": "code",
   "execution_count": null,
   "id": "43",
   "metadata": {
    "papermill": {
     "duration": 0.247118,
     "end_time": "2023-07-24T08:35:15.099357",
     "exception": false,
     "start_time": "2023-07-24T08:35:14.852239",
     "status": "completed"
    },
    "tags": []
   },
   "outputs": [],
   "source": [
    "# Calculate the counts of each outcome\n",
    "outcome_counts = df['Outcome'].value_counts()\n",
    "\n",
    "# Calculate the total number of patients\n",
    "total_patients = outcome_counts.sum()\n",
    "\n",
    "# Calculate the percentages\n",
    "percentages = outcome_counts / total_patients * 100\n",
    "\n",
    "# Create labels with both quantity and percentage\n",
    "labels = [f'0 - Non-Diabetic\\n({outcome_counts[0]} / {percentages[0]:.1f}%)',\n",
    "          f'1 - Diabetic\\n({outcome_counts[1]} / {percentages[1]:.1f}%)']\n",
    "\n",
    "# Plot the pie chart with labels and percentages\n",
    "plt.figure(figsize=(8, 6))\n",
    "plt.pie(outcome_counts, labels=labels, autopct='%1.1f%%', colors=['purple', 'lightgray'])\n",
    "plt.title('Distribution of the Outcome Variable')\n",
    "plt.show()\n"
   ]
  },
  {
   "cell_type": "code",
   "execution_count": null,
   "id": "44",
   "metadata": {
    "papermill": {
     "duration": 27.174644,
     "end_time": "2023-07-24T08:35:42.339764",
     "exception": false,
     "start_time": "2023-07-24T08:35:15.165120",
     "status": "completed"
    },
    "tags": []
   },
   "outputs": [],
   "source": [
    "sns.pairplot(data=df, vars=['Glucose', 'BloodPressure', 'SkinThickness', 'Insulin', 'BMI', 'DiabetesPedigreeFunction', 'Age'], hue='Outcome', height=5)\n",
    "plt.show(block=True)"
   ]
  },
  {
   "cell_type": "code",
   "execution_count": null,
   "id": "45",
   "metadata": {
    "papermill": {
     "duration": 3.439602,
     "end_time": "2023-07-24T08:35:45.894229",
     "exception": false,
     "start_time": "2023-07-24T08:35:42.454627",
     "status": "completed"
    },
    "tags": []
   },
   "outputs": [],
   "source": [
    "# Create combinations of binary categorical variables\n",
    "feature_combinations = list(itertools.combinations(['Glucose', 'BloodPressure', 'SkinThickness', 'Insulin', 'BMI', 'DiabetesPedigreeFunction', 'Age'], 2))\n",
    "\n",
    "# Create a separate Bubble Chart for each binary categorical variable\n",
    "for i, (feature1, feature2) in enumerate(feature_combinations):\n",
    "    fig = px.scatter(df, x=feature1, y=feature2, color='Outcome', size='BMI',\n",
    "                     title=f'{feature1} vs {feature2} Bubble Chart')\n",
    "\n",
    "    fig.show(block=True)"
   ]
  },
  {
   "cell_type": "markdown",
   "id": "46",
   "metadata": {
    "papermill": {
     "duration": 0.122977,
     "end_time": "2023-07-24T08:35:46.146956",
     "exception": false,
     "start_time": "2023-07-24T08:35:46.023979",
     "status": "completed"
    },
    "tags": []
   },
   "source": [
    "# 13. Base Model Before Feature Engineering"
   ]
  },
  {
   "cell_type": "code",
   "execution_count": null,
   "id": "47",
   "metadata": {
    "papermill": {
     "duration": 0.136916,
     "end_time": "2023-07-24T08:35:46.407954",
     "exception": false,
     "start_time": "2023-07-24T08:35:46.271038",
     "status": "completed"
    },
    "tags": []
   },
   "outputs": [],
   "source": [
    "# Creating the Dependent Variable.\n",
    "\n",
    "y = df[\"Outcome\"]\n",
    "\n",
    "# Creating Independent Variables.\n",
    "\n",
    "X = df.drop(\"Outcome\", axis=1)\n",
    "\n",
    "# Splitting the Data into Training and Test Sets\n",
    "\n",
    "X_train, X_test, y_train, y_test = train_test_split(X, y, test_size=0.30, random_state=17)"
   ]
  },
  {
   "cell_type": "markdown",
   "id": "48",
   "metadata": {
    "papermill": {
     "duration": 0.129569,
     "end_time": "2023-07-24T08:35:46.659210",
     "exception": false,
     "start_time": "2023-07-24T08:35:46.529641",
     "status": "completed"
    },
    "tags": []
   },
   "source": [
    "# 13.1.RandomForestClassifier"
   ]
  },
  {
   "cell_type": "code",
   "execution_count": null,
   "id": "49",
   "metadata": {
    "papermill": {
     "duration": 0.446821,
     "end_time": "2023-07-24T08:35:47.229095",
     "exception": false,
     "start_time": "2023-07-24T08:35:46.782274",
     "status": "completed"
    },
    "tags": []
   },
   "outputs": [],
   "source": [
    "# Random Forest Classifier Model Training\n",
    "\n",
    "rf_model = RandomForestClassifier(random_state=46).fit(X_train, y_train)\n",
    "\n",
    "# Prediction using Random Forest Classifier Model\n",
    "\n",
    "y_pred = rf_model.predict(X_test)\n",
    "\n",
    "print(\"RandomForestClassifier:\")\n",
    "print(f\"Accuracy: {round(accuracy_score(y_pred, y_test), 4)}\")\n",
    "print(f\"Recall: {round(recall_score(y_pred,y_test),4)}\")\n",
    "print(f\"Precision: {round(precision_score(y_pred,y_test), 4)}\")\n",
    "print(f\"F1: {round(f1_score(y_pred,y_test), 4)}\")\n",
    "print(f\"Auc: {round(roc_auc_score(y_pred,y_test), 4)}\")"
   ]
  },
  {
   "cell_type": "markdown",
   "id": "50",
   "metadata": {
    "papermill": {
     "duration": 0.130886,
     "end_time": "2023-07-24T08:35:47.482930",
     "exception": false,
     "start_time": "2023-07-24T08:35:47.352044",
     "status": "completed"
    },
    "tags": []
   },
   "source": [
    "# 13.2.Logistic Regression"
   ]
  },
  {
   "cell_type": "code",
   "execution_count": null,
   "id": "51",
   "metadata": {
    "papermill": {
     "duration": 0.172054,
     "end_time": "2023-07-24T08:35:47.784996",
     "exception": false,
     "start_time": "2023-07-24T08:35:47.612942",
     "status": "completed"
    },
    "tags": []
   },
   "outputs": [],
   "source": [
    "lr_model = LogisticRegression()\n",
    "lr_model.fit(X_train, y_train)\n",
    "lr_pred = lr_model.predict(X_test)\n",
    "\n",
    "print(\"Logistic Regression:\")\n",
    "print(f\"Accuracy: {round(accuracy_score(lr_pred, y_test), 4)}\")\n",
    "print(f\"Recall: {round(recall_score(lr_pred, y_test), 4)}\")\n",
    "print(f\"Precision: {round(precision_score(lr_pred, y_test), 4)}\")\n",
    "print(f\"F1: {round(f1_score(lr_pred, y_test), 4)}\")\n",
    "print(f\"AUC: {round(roc_auc_score(lr_pred, y_test), 4)}\")\n"
   ]
  },
  {
   "cell_type": "markdown",
   "id": "52",
   "metadata": {
    "papermill": {
     "duration": 0.124429,
     "end_time": "2023-07-24T08:35:48.031156",
     "exception": false,
     "start_time": "2023-07-24T08:35:47.906727",
     "status": "completed"
    },
    "tags": []
   },
   "source": [
    "# 13.3.K-Nearest Neighbors (KNN)"
   ]
  },
  {
   "cell_type": "code",
   "execution_count": null,
   "id": "53",
   "metadata": {
    "papermill": {
     "duration": 0.161769,
     "end_time": "2023-07-24T08:35:48.317582",
     "exception": false,
     "start_time": "2023-07-24T08:35:48.155813",
     "status": "completed"
    },
    "tags": []
   },
   "outputs": [],
   "source": [
    "knn_model = KNeighborsClassifier()\n",
    "knn_model.fit(X_train, y_train)\n",
    "knn_pred = knn_model.predict(X_test)\n",
    "\n",
    "print(\"K-Nearest Neighbors (KNN):\")\n",
    "print(f\"Accuracy: {round(accuracy_score(knn_pred, y_test), 4)}\")\n",
    "print(f\"Recall: {round(recall_score(knn_pred, y_test), 4)}\")\n",
    "print(f\"Precision: {round(precision_score(knn_pred, y_test), 4)}\")\n",
    "print(f\"F1: {round(f1_score(knn_pred, y_test), 4)}\")\n",
    "print(f\"AUC: {round(roc_auc_score(knn_pred, y_test), 4)}\")\n"
   ]
  },
  {
   "cell_type": "markdown",
   "id": "54",
   "metadata": {
    "papermill": {
     "duration": 0.121915,
     "end_time": "2023-07-24T08:35:48.559873",
     "exception": false,
     "start_time": "2023-07-24T08:35:48.437958",
     "status": "completed"
    },
    "tags": []
   },
   "source": [
    "# 13.4.Support Vector Classifier (SVC)"
   ]
  },
  {
   "cell_type": "code",
   "execution_count": null,
   "id": "55",
   "metadata": {
    "papermill": {
     "duration": 0.162429,
     "end_time": "2023-07-24T08:35:48.844378",
     "exception": false,
     "start_time": "2023-07-24T08:35:48.681949",
     "status": "completed"
    },
    "tags": []
   },
   "outputs": [],
   "source": [
    "svc_model = SVC()\n",
    "svc_model.fit(X_train, y_train)\n",
    "svc_pred = svc_model.predict(X_test)\n",
    "\n",
    "print(\"Support Vector Classifier (SVC):\")\n",
    "print(f\"Accuracy: {round(accuracy_score(svc_pred, y_test), 4)}\")\n",
    "print(f\"Recall: {round(recall_score(svc_pred, y_test), 4)}\")\n",
    "print(f\"Precision: {round(precision_score(svc_pred, y_test), 4)}\")\n",
    "print(f\"F1: {round(f1_score(svc_pred, y_test), 4)}\")\n",
    "print(f\"AUC: {round(roc_auc_score(svc_pred, y_test), 4)}\")\n"
   ]
  },
  {
   "cell_type": "markdown",
   "id": "56",
   "metadata": {
    "papermill": {
     "duration": 0.125099,
     "end_time": "2023-07-24T08:35:49.090876",
     "exception": false,
     "start_time": "2023-07-24T08:35:48.965777",
     "status": "completed"
    },
    "tags": []
   },
   "source": [
    "# 13.5.Decision Tree Classifier"
   ]
  },
  {
   "cell_type": "code",
   "execution_count": null,
   "id": "57",
   "metadata": {
    "papermill": {
     "duration": 0.150197,
     "end_time": "2023-07-24T08:35:49.365891",
     "exception": false,
     "start_time": "2023-07-24T08:35:49.215694",
     "status": "completed"
    },
    "tags": []
   },
   "outputs": [],
   "source": [
    "dt_model = DecisionTreeClassifier()\n",
    "dt_model.fit(X_train, y_train)\n",
    "dt_pred = dt_model.predict(X_test)\n",
    "\n",
    "print(\"Decision Tree Classifier:\")\n",
    "print(f\"Accuracy: {round(accuracy_score(dt_pred, y_test), 4)}\")\n",
    "print(f\"Recall: {round(recall_score(dt_pred, y_test), 4)}\")\n",
    "print(f\"Precision: {round(precision_score(dt_pred, y_test), 4)}\")\n",
    "print(f\"F1: {round(f1_score(dt_pred, y_test), 4)}\")\n",
    "print(f\"AUC: {round(roc_auc_score(dt_pred, y_test), 4)}\")\n"
   ]
  },
  {
   "cell_type": "markdown",
   "id": "58",
   "metadata": {
    "papermill": {
     "duration": 0.125337,
     "end_time": "2023-07-24T08:35:49.612432",
     "exception": false,
     "start_time": "2023-07-24T08:35:49.487095",
     "status": "completed"
    },
    "tags": []
   },
   "source": [
    "# 13.6.AdaBoost Classifier"
   ]
  },
  {
   "cell_type": "code",
   "execution_count": null,
   "id": "59",
   "metadata": {
    "papermill": {
     "duration": 0.282775,
     "end_time": "2023-07-24T08:35:50.019856",
     "exception": false,
     "start_time": "2023-07-24T08:35:49.737081",
     "status": "completed"
    },
    "tags": []
   },
   "outputs": [],
   "source": [
    "ada_model = AdaBoostClassifier()\n",
    "ada_model.fit(X_train, y_train)\n",
    "ada_pred = ada_model.predict(X_test)\n",
    "\n",
    "print(\"AdaBoost Classifier:\")\n",
    "print(f\"Accuracy: {round(accuracy_score(ada_pred, y_test), 4)}\")\n",
    "print(f\"Recall: {round(recall_score(ada_pred, y_test), 4)}\")\n",
    "print(f\"Precision: {round(precision_score(ada_pred, y_test), 4)}\")\n",
    "print(f\"F1: {round(f1_score(ada_pred, y_test), 4)}\")\n",
    "print(f\"AUC: {round(roc_auc_score(ada_pred, y_test), 4)}\")\n"
   ]
  },
  {
   "cell_type": "markdown",
   "id": "60",
   "metadata": {
    "papermill": {
     "duration": 0.124761,
     "end_time": "2023-07-24T08:35:50.266994",
     "exception": false,
     "start_time": "2023-07-24T08:35:50.142233",
     "status": "completed"
    },
    "tags": []
   },
   "source": [
    "# 13.7.Gradient Boosting Classifier"
   ]
  },
  {
   "cell_type": "code",
   "execution_count": null,
   "id": "61",
   "metadata": {
    "papermill": {
     "duration": 0.33852,
     "end_time": "2023-07-24T08:35:50.728093",
     "exception": false,
     "start_time": "2023-07-24T08:35:50.389573",
     "status": "completed"
    },
    "tags": []
   },
   "outputs": [],
   "source": [
    "gb_model = GradientBoostingClassifier()\n",
    "gb_model.fit(X_train, y_train)\n",
    "gb_pred = gb_model.predict(X_test)\n",
    "\n",
    "print(\"Gradient Boosting Classifier:\")\n",
    "print(f\"Accuracy: {round(accuracy_score(gb_pred, y_test), 4)}\")\n",
    "print(f\"Recall: {round(recall_score(gb_pred, y_test), 4)}\")\n",
    "print(f\"Precision: {round(precision_score(gb_pred, y_test), 4)}\")\n",
    "print(f\"F1: {round(f1_score(gb_pred, y_test), 4)}\")\n",
    "print(f\"AUC: {round(roc_auc_score(gb_pred, y_test), 4)}\")\n"
   ]
  },
  {
   "cell_type": "markdown",
   "id": "62",
   "metadata": {
    "papermill": {
     "duration": 0.121922,
     "end_time": "2023-07-24T08:35:50.973030",
     "exception": false,
     "start_time": "2023-07-24T08:35:50.851108",
     "status": "completed"
    },
    "tags": []
   },
   "source": [
    "# 13.8.XGBoost Classifier"
   ]
  },
  {
   "cell_type": "code",
   "execution_count": null,
   "id": "63",
   "metadata": {
    "papermill": {
     "duration": 0.253545,
     "end_time": "2023-07-24T08:35:51.346983",
     "exception": false,
     "start_time": "2023-07-24T08:35:51.093438",
     "status": "completed"
    },
    "tags": []
   },
   "outputs": [],
   "source": [
    "xgb_model = XGBClassifier()\n",
    "xgb_model.fit(X_train, y_train)\n",
    "xgb_pred = xgb_model.predict(X_test)\n",
    "\n",
    "print(\"XGBoost Classifier:\")\n",
    "print(f\"Accuracy: {round(accuracy_score(xgb_pred, y_test), 4)}\")\n",
    "print(f\"Recall: {round(recall_score(xgb_pred, y_test), 4)}\")\n",
    "print(f\"Precision: {round(precision_score(xgb_pred, y_test), 4)}\")\n",
    "print(f\"F1: {round(f1_score(xgb_pred, y_test), 4)}\")\n",
    "print(f\"AUC: {round(roc_auc_score(xgb_pred, y_test), 4)}\")\n"
   ]
  },
  {
   "cell_type": "markdown",
   "id": "64",
   "metadata": {
    "papermill": {
     "duration": 0.120432,
     "end_time": "2023-07-24T08:35:51.589100",
     "exception": false,
     "start_time": "2023-07-24T08:35:51.468668",
     "status": "completed"
    },
    "tags": []
   },
   "source": [
    "# 13.9.LightGBM Classifier"
   ]
  },
  {
   "cell_type": "code",
   "execution_count": null,
   "id": "65",
   "metadata": {
    "papermill": {
     "duration": 0.531137,
     "end_time": "2023-07-24T08:35:52.244500",
     "exception": false,
     "start_time": "2023-07-24T08:35:51.713363",
     "status": "completed"
    },
    "tags": []
   },
   "outputs": [],
   "source": [
    "lgbm_model = LGBMClassifier()\n",
    "lgbm_model.fit(X_train, y_train)\n",
    "lgbm_pred = lgbm_model.predict(X_test)\n",
    "\n",
    "print(\"LightGBM Classifier:\")\n",
    "print(f\"Accuracy: {round(accuracy_score(lgbm_pred, y_test), 4)}\")\n",
    "print(f\"Recall: {round(recall_score(lgbm_pred, y_test), 4)}\")\n",
    "print(f\"Precision: {round(precision_score(lgbm_pred, y_test), 4)}\")\n",
    "print(f\"F1: {round(f1_score(lgbm_pred, y_test), 4)}\")\n",
    "print(f\"AUC: {round(roc_auc_score(lgbm_pred, y_test), 4)}\")\n"
   ]
  },
  {
   "cell_type": "markdown",
   "id": "66",
   "metadata": {
    "papermill": {
     "duration": 0.123491,
     "end_time": "2023-07-24T08:35:52.491680",
     "exception": false,
     "start_time": "2023-07-24T08:35:52.368189",
     "status": "completed"
    },
    "tags": []
   },
   "source": [
    "# 13.10.Comparison of Metrics for Different Models"
   ]
  },
  {
   "cell_type": "code",
   "execution_count": null,
   "id": "67",
   "metadata": {
    "papermill": {
     "duration": 0.177756,
     "end_time": "2023-07-24T08:35:52.801810",
     "exception": false,
     "start_time": "2023-07-24T08:35:52.624054",
     "status": "completed"
    },
    "tags": []
   },
   "outputs": [],
   "source": [
    "# Dictionary containing the metric results\n",
    "metrics = {\n",
    "    \"Model\": [\"Random Forest\", \"Logistic Regression\", \"KNN\", \"SVC\", \"Decision Tree\", \"AdaBoost\", \"Gradient Boosting\", \"XGBoost\", \"LightGBM\"],\n",
    "    \"Accuracy\": [0.7706, 0.7879, 0.7619, 0.7446, 0.7186, 0.7532, 0.7706, 0.7706, 0.7619],\n",
    "    \"Recall\": [0.7059, 0.7667, 0.6711, 0.6833, 0.6053, 0.6765, 0.7, 0.7059, 0.6857],\n",
    "    \"Precision\": [0.5926, 0.5679, 0.6296, 0.5062, 0.5679, 0.5679, 0.6049, 0.5926, 0.5926],\n",
    "    \"F1\": [0.6443, 0.6525, 0.6497, 0.5816, 0.586, 0.6174, 0.649, 0.6443, 0.6358],\n",
    "    \"AUC\": [0.7517, 0.781, 0.7388, 0.7247, 0.6897, 0.7309, 0.7506, 0.7517, 0.7404]\n",
    "}\n",
    "\n",
    "# Creating a DataFrame from the metrics dictionary\n",
    "results_df = pd.DataFrame(metrics)\n",
    "\n",
    "# Sorting the DataFrame by accuracy in descending order\n",
    "results_df = results_df.sort_values(by=\"Accuracy\", ascending=False)\n",
    "\n",
    "# Creating the figure for the graph\n",
    "fig = go.Figure()\n",
    "\n",
    "# Colors for the metrics\n",
    "colors = [\"purple\", \"green\", \"blue\", \"orange\", \"red\"]\n",
    "\n",
    "# Adding traces for each metric in the specified order\n",
    "for metric, color in zip([\"Accuracy\", \"Recall\", \"Precision\", \"F1\", \"AUC\"], colors):\n",
    "    fig.add_trace(go.Bar(\n",
    "        x=results_df[\"Model\"],\n",
    "        y=results_df[metric],\n",
    "        marker_color=color,\n",
    "        name=metric,\n",
    "        text=results_df[metric],\n",
    "        textposition='auto'\n",
    "    ))\n",
    "\n",
    "# Setting axis labels and title\n",
    "fig.update_layout(\n",
    "    xaxis_title=\"Model\",\n",
    "    yaxis_title=\"Metric Score\",\n",
    "    title=\"Comparison of Metrics for Different Models\"\n",
    ")\n",
    "\n",
    "# Displaying the graph\n",
    "fig.show(block=True)\n",
    "\n",
    "\n"
   ]
  },
  {
   "cell_type": "markdown",
   "id": "68",
   "metadata": {
    "papermill": {
     "duration": 0.128654,
     "end_time": "2023-07-24T08:35:53.058260",
     "exception": false,
     "start_time": "2023-07-24T08:35:52.929606",
     "status": "completed"
    },
    "tags": []
   },
   "source": [
    "**Conclusion**\n",
    "\n",
    "**Accuracy:** Accuracy represents the overall correctness rate of the model's predictions. It indicates the proportion of correctly classified cases out of the total data.\n",
    "\n",
    "**Recall:** Recall measures the proportion of actual diabetic cases that are correctly identified by the model. It shows how well the model captures the true positive cases of diabetes.\n",
    "\n",
    "**Precision:** Precision calculates the proportion of predicted diabetic cases that are actually true positive cases. It indicates the accuracy of the model's positive predictions for diabetes.\n",
    "\n",
    "**F1 Score:** F1 score is the harmonic mean of recall and precision. It provides a balanced measure by considering both recall and precision equally, evaluating the overall performance of the model.\n",
    "\n",
    "**AUC (Area Under the Curve):** AUC represents the area under the Receiver Operating Characteristic (ROC) curve. It reflects the model's ability to distinguish between classes and provides an overall measure of performance."
   ]
  },
  {
   "cell_type": "markdown",
   "id": "69",
   "metadata": {
    "papermill": {
     "duration": 0.125219,
     "end_time": "2023-07-24T08:35:53.308576",
     "exception": false,
     "start_time": "2023-07-24T08:35:53.183357",
     "status": "completed"
    },
    "tags": []
   },
   "source": [
    "# 13.11.Visualization of the Decision Tree"
   ]
  },
  {
   "cell_type": "code",
   "execution_count": null,
   "id": "70",
   "metadata": {
    "papermill": {
     "duration": 1.993546,
     "end_time": "2023-07-24T08:35:55.423335",
     "exception": false,
     "start_time": "2023-07-24T08:35:53.429789",
     "status": "completed"
    },
    "tags": []
   },
   "outputs": [],
   "source": [
    "# Loading the dataset and setting the features and target variable\n",
    "x = pd.DataFrame(df, columns=['Pregnancies', 'Glucose', 'BloodPressure', 'SkinThickness', 'Insulin', 'BMI', 'DiabetesPedigreeFunction', 'Age'])\n",
    "y = df.Outcome.values.reshape(-1, 1)\n",
    "\n",
    "# Splitting the data into training and test sets\n",
    "x_train, x_test, y_train, y_test = train_test_split(x, y, test_size=0.3, random_state=1)\n",
    "\n",
    "# Defining and training the Decision Tree Classifier\n",
    "clf = DecisionTreeClassifier(max_depth=3)\n",
    "clf = clf.fit(x_train, y_train)\n",
    "\n",
    "# Making predictions on the test set\n",
    "y_pred = clf.predict(x_test)\n",
    "\n",
    "# Generating the text representation of the decision tree and printing it\n",
    "text_representation = tree.export_text(clf)\n",
    "print(text_representation)\n",
    "\n",
    "# Setting the feature and target class names\n",
    "feature_names = ['Pregnancies', 'Glucose', 'BloodPressure', 'SkinThickness', 'Insulin', 'BMI', 'DiabetesPedigreeFunction', 'Age']\n",
    "target_names = ['0', '1']\n",
    "\n",
    "# Generating and saving the visualization of the decision tree\n",
    "fig = plt.figure(figsize=(25, 20))\n",
    "plot = tree.plot_tree(clf, feature_names=feature_names, class_names=target_names, filled=True)\n",
    "fig.savefig('tree1.png')"
   ]
  },
  {
   "cell_type": "markdown",
   "id": "71",
   "metadata": {
    "papermill": {
     "duration": 0.147862,
     "end_time": "2023-07-24T08:35:55.704880",
     "exception": false,
     "start_time": "2023-07-24T08:35:55.557018",
     "status": "completed"
    },
    "tags": []
   },
   "source": [
    "# 13.12.Plot Importance of Variables According to Base Model"
   ]
  },
  {
   "cell_type": "code",
   "execution_count": null,
   "id": "72",
   "metadata": {
    "papermill": {
     "duration": 0.13959,
     "end_time": "2023-07-24T08:35:55.972431",
     "exception": false,
     "start_time": "2023-07-24T08:35:55.832841",
     "status": "completed"
    },
    "tags": []
   },
   "outputs": [],
   "source": [
    "def plot_importance(model, features, num=len(X), save=False):\n",
    "    feature_imp = pd.DataFrame({'Value': model.feature_importances_, 'Feature': features.columns})\n",
    "    plt.figure(figsize=(10, 10))\n",
    "    sns.set(font_scale=1)\n",
    "    sns.barplot(x=\"Value\", y=\"Feature\", data=feature_imp.sort_values(by=\"Value\", ascending=False)[0:num])\n",
    "    plt.title(f'Feature Importance - {model.__class__.__name__}')\n",
    "    plt.tight_layout()\n",
    "    plt.show(block=True)\n",
    "    if save:\n",
    "        plt.savefig('importances.png')\n"
   ]
  },
  {
   "cell_type": "code",
   "execution_count": null,
   "id": "73",
   "metadata": {
    "papermill": {
     "duration": 0.136625,
     "end_time": "2023-07-24T08:35:56.236532",
     "exception": false,
     "start_time": "2023-07-24T08:35:56.099907",
     "status": "completed"
    },
    "tags": []
   },
   "outputs": [],
   "source": [
    "model_name = [rf_model, dt_model, xgb_model, lgbm_model]"
   ]
  },
  {
   "cell_type": "code",
   "execution_count": null,
   "id": "74",
   "metadata": {
    "papermill": {
     "duration": 2.403336,
     "end_time": "2023-07-24T08:35:58.769005",
     "exception": false,
     "start_time": "2023-07-24T08:35:56.365669",
     "status": "completed"
    },
    "tags": []
   },
   "outputs": [],
   "source": [
    "for i in model_name:\n",
    "    plot_importance(i, X)"
   ]
  },
  {
   "cell_type": "markdown",
   "id": "75",
   "metadata": {
    "papermill": {
     "duration": 0.129724,
     "end_time": "2023-07-24T08:35:59.036739",
     "exception": false,
     "start_time": "2023-07-24T08:35:58.907015",
     "status": "completed"
    },
    "tags": []
   },
   "source": [
    "# 14. Feature Engineering"
   ]
  },
  {
   "cell_type": "markdown",
   "id": "76",
   "metadata": {
    "papermill": {
     "duration": 0.128695,
     "end_time": "2023-07-24T08:35:59.296389",
     "exception": false,
     "start_time": "2023-07-24T08:35:59.167694",
     "status": "completed"
    },
    "tags": []
   },
   "source": [
    "**In this section, we will perform the following variable engineering operations.**\n",
    "\n",
    "- Missing Values Detection\n",
    "- Outlier Detection (Outliers)\n",
    "- Feature Extraction"
   ]
  },
  {
   "cell_type": "markdown",
   "id": "77",
   "metadata": {
    "papermill": {
     "duration": 0.130555,
     "end_time": "2023-07-24T08:35:59.558799",
     "exception": false,
     "start_time": "2023-07-24T08:35:59.428244",
     "status": "completed"
    },
    "tags": []
   },
   "source": [
    "# 15. Missing Value Analysis"
   ]
  },
  {
   "cell_type": "code",
   "execution_count": null,
   "id": "78",
   "metadata": {
    "papermill": {
     "duration": 0.143774,
     "end_time": "2023-07-24T08:35:59.900078",
     "exception": false,
     "start_time": "2023-07-24T08:35:59.756304",
     "status": "completed"
    },
    "tags": []
   },
   "outputs": [],
   "source": [
    "# Detection of variables with missing observations filled with zero in the data set.\n",
    "\n",
    "zero_colunms = [col for col in df.columns if (df[col].min() == 0 and col not in  [\"Pregnancies\", \"Outcome\"])]"
   ]
  },
  {
   "cell_type": "code",
   "execution_count": null,
   "id": "79",
   "metadata": {
    "papermill": {
     "duration": 0.143613,
     "end_time": "2023-07-24T08:36:00.175641",
     "exception": false,
     "start_time": "2023-07-24T08:36:00.032028",
     "status": "completed"
    },
    "tags": []
   },
   "outputs": [],
   "source": [
    "zero_colunms"
   ]
  },
  {
   "cell_type": "code",
   "execution_count": null,
   "id": "80",
   "metadata": {
    "papermill": {
     "duration": 0.144105,
     "end_time": "2023-07-24T08:36:00.451193",
     "exception": false,
     "start_time": "2023-07-24T08:36:00.307088",
     "status": "completed"
    },
    "tags": []
   },
   "outputs": [],
   "source": [
    "df.isnull().sum()"
   ]
  },
  {
   "cell_type": "code",
   "execution_count": null,
   "id": "81",
   "metadata": {
    "papermill": {
     "duration": 0.14474,
     "end_time": "2023-07-24T08:36:00.727270",
     "exception": false,
     "start_time": "2023-07-24T08:36:00.582530",
     "status": "completed"
    },
    "tags": []
   },
   "outputs": [],
   "source": [
    "# Filling the missing observations in the dataset with NaN that are filled with zero.\n",
    "\n",
    "for col in zero_colunms:\n",
    "    df[col] = np.where(df[col] == 0, np.nan, df[col])"
   ]
  },
  {
   "cell_type": "code",
   "execution_count": null,
   "id": "82",
   "metadata": {
    "papermill": {
     "duration": 0.145347,
     "end_time": "2023-07-24T08:36:01.005654",
     "exception": false,
     "start_time": "2023-07-24T08:36:00.860307",
     "status": "completed"
    },
    "tags": []
   },
   "outputs": [],
   "source": [
    "df.isnull().sum()"
   ]
  },
  {
   "cell_type": "code",
   "execution_count": null,
   "id": "83",
   "metadata": {
    "papermill": {
     "duration": 0.151043,
     "end_time": "2023-07-24T08:36:01.292670",
     "exception": false,
     "start_time": "2023-07-24T08:36:01.141627",
     "status": "completed"
    },
    "tags": []
   },
   "outputs": [],
   "source": [
    "def missing_values_table(dataframe, na_name=False, plot=False):\n",
    "    na_columns = [col for col in dataframe.columns if dataframe[col].isnull().sum() > 0]\n",
    "    n_miss = dataframe[na_columns].isnull().sum().sort_values(ascending=False)\n",
    "    ratio = (dataframe[na_columns].isnull().sum() / dataframe.shape[0] * 100).sort_values(ascending=False)\n",
    "    missing_df = pd.concat([n_miss, np.round(ratio, 2)], axis=1, keys=['n_miss', 'ratio'])\n",
    "    print(missing_df, end=\"\\n\")\n",
    "    \n",
    "    if plot:\n",
    "        # Plotting the missing values\n",
    "        plt.figure(figsize=(10, 8))\n",
    "        bars = plt.bar(missing_df.index, missing_df['ratio'], color='purple')\n",
    "        plt.xlabel('Features')\n",
    "        plt.ylabel('Percentage of Missing Values')\n",
    "        plt.title('Missing Values by Feature')\n",
    "        \n",
    "        for bar in bars:\n",
    "            yval = bar.get_height()\n",
    "            plt.text(bar.get_x() + bar.get_width() / 2, yval, f'{yval:.2f}%', ha='center', va='bottom')\n",
    "        \n",
    "        plt.xticks(rotation=90)\n",
    "        plt.tight_layout()\n",
    "        plt.show()\n",
    "    \n",
    "    if na_name:\n",
    "        return na_columns\n"
   ]
  },
  {
   "cell_type": "code",
   "execution_count": null,
   "id": "84",
   "metadata": {
    "papermill": {
     "duration": 0.609053,
     "end_time": "2023-07-24T08:36:02.033926",
     "exception": false,
     "start_time": "2023-07-24T08:36:01.424873",
     "status": "completed"
    },
    "tags": []
   },
   "outputs": [],
   "source": [
    "na_columns = missing_values_table(df, na_name=True, plot=True)"
   ]
  },
  {
   "cell_type": "code",
   "execution_count": null,
   "id": "85",
   "metadata": {
    "papermill": {
     "duration": 0.149084,
     "end_time": "2023-07-24T08:36:02.316391",
     "exception": false,
     "start_time": "2023-07-24T08:36:02.167307",
     "status": "completed"
    },
    "tags": []
   },
   "outputs": [],
   "source": [
    "def missing_vs_target(dataframe, target, na_columns, plot=False):\n",
    "    temp_df = dataframe.copy()\n",
    "    for col in na_columns:\n",
    "        temp_df[col + '_NA_FLAG'] = np.where(temp_df[col].isnull(), 1, 0)\n",
    "    na_flags = temp_df.loc[:, temp_df.columns.str.contains(\"_NA_\")].columns\n",
    "    for col in na_flags:\n",
    "        print(pd.DataFrame({\"TARGET_MEAN\": temp_df.groupby(col)[target].mean(),\n",
    "                            \"Count\": temp_df.groupby(col)[target].count()}), end=\"\\n\\n\\n\")\n",
    "        if plot:\n",
    "            # Plotting the target mean by NA flag\n",
    "            plt.figure(figsize=(6, 4))\n",
    "            temp_df.groupby(col)[target].mean().plot(kind='bar', color='purple')\n",
    "            plt.xlabel(col)\n",
    "            plt.ylabel('Target Mean')\n",
    "            plt.title(f'Target Mean by {col}')\n",
    "            plt.xticks(rotation=0)\n",
    "            plt.tight_layout()\n",
    "            plt.show()\n",
    "            print(\"######################################################################\")\n",
    "\n"
   ]
  },
  {
   "cell_type": "code",
   "execution_count": null,
   "id": "86",
   "metadata": {
    "papermill": {
     "duration": 2.149703,
     "end_time": "2023-07-24T08:36:04.599575",
     "exception": false,
     "start_time": "2023-07-24T08:36:02.449872",
     "status": "completed"
    },
    "tags": []
   },
   "outputs": [],
   "source": [
    "missing_vs_target(df, \"Outcome\", na_columns, plot=True)"
   ]
  },
  {
   "cell_type": "code",
   "execution_count": null,
   "id": "87",
   "metadata": {
    "papermill": {
     "duration": 0.153463,
     "end_time": "2023-07-24T08:36:04.908644",
     "exception": false,
     "start_time": "2023-07-24T08:36:04.755181",
     "status": "completed"
    },
    "tags": []
   },
   "outputs": [],
   "source": [
    "\"\"\"\n",
    "# Option 1\n",
    "# Filling the missing observations filled with NaN in the data set with the median value of that column.\n",
    "\n",
    "for col in zero_colunms:\n",
    "    df.loc[df[col].isnull(), col] = df[col].median()\n",
    "\n",
    "df.isnull().sum()\n",
    "\n",
    "df.head(10)\n",
    "\"\"\""
   ]
  },
  {
   "cell_type": "code",
   "execution_count": null,
   "id": "88",
   "metadata": {
    "papermill": {
     "duration": 0.146793,
     "end_time": "2023-07-24T08:36:05.193587",
     "exception": false,
     "start_time": "2023-07-24T08:36:05.046794",
     "status": "completed"
    },
    "tags": []
   },
   "outputs": [],
   "source": [
    "# Option 2\n",
    "# Filled KNN Imputers \n",
    "\n",
    "dff = df[na_columns]"
   ]
  },
  {
   "cell_type": "code",
   "execution_count": null,
   "id": "89",
   "metadata": {
    "papermill": {
     "duration": 0.147218,
     "end_time": "2023-07-24T08:36:05.475299",
     "exception": false,
     "start_time": "2023-07-24T08:36:05.328081",
     "status": "completed"
    },
    "tags": []
   },
   "outputs": [],
   "source": [
    "rs = RobustScaler()"
   ]
  },
  {
   "cell_type": "code",
   "execution_count": null,
   "id": "90",
   "metadata": {
    "papermill": {
     "duration": 0.157328,
     "end_time": "2023-07-24T08:36:05.777858",
     "exception": false,
     "start_time": "2023-07-24T08:36:05.620530",
     "status": "completed"
    },
    "tags": []
   },
   "outputs": [],
   "source": [
    "dff = pd.DataFrame(rs.fit_transform(dff), columns=dff.columns)"
   ]
  },
  {
   "cell_type": "code",
   "execution_count": null,
   "id": "91",
   "metadata": {
    "papermill": {
     "duration": 0.149194,
     "end_time": "2023-07-24T08:36:06.063805",
     "exception": false,
     "start_time": "2023-07-24T08:36:05.914611",
     "status": "completed"
    },
    "tags": []
   },
   "outputs": [],
   "source": [
    "dff.head()"
   ]
  },
  {
   "cell_type": "code",
   "execution_count": null,
   "id": "92",
   "metadata": {
    "papermill": {
     "duration": 0.197248,
     "end_time": "2023-07-24T08:36:06.396025",
     "exception": false,
     "start_time": "2023-07-24T08:36:06.198777",
     "status": "completed"
    },
    "tags": []
   },
   "outputs": [],
   "source": [
    "dff = pd.DataFrame(KNNImputer(n_neighbors=5).fit_transform(dff), columns = dff.columns)"
   ]
  },
  {
   "cell_type": "code",
   "execution_count": null,
   "id": "93",
   "metadata": {
    "papermill": {
     "duration": 0.156596,
     "end_time": "2023-07-24T08:36:06.731945",
     "exception": false,
     "start_time": "2023-07-24T08:36:06.575349",
     "status": "completed"
    },
    "tags": []
   },
   "outputs": [],
   "source": [
    "dff.head()"
   ]
  },
  {
   "cell_type": "code",
   "execution_count": null,
   "id": "94",
   "metadata": {
    "papermill": {
     "duration": 0.151322,
     "end_time": "2023-07-24T08:36:07.020684",
     "exception": false,
     "start_time": "2023-07-24T08:36:06.869362",
     "status": "completed"
    },
    "tags": []
   },
   "outputs": [],
   "source": [
    "dff = pd.DataFrame(rs.inverse_transform(dff), columns=dff.columns)"
   ]
  },
  {
   "cell_type": "code",
   "execution_count": null,
   "id": "95",
   "metadata": {
    "papermill": {
     "duration": 0.15103,
     "end_time": "2023-07-24T08:36:07.308250",
     "exception": false,
     "start_time": "2023-07-24T08:36:07.157220",
     "status": "completed"
    },
    "tags": []
   },
   "outputs": [],
   "source": [
    "df[na_columns] = dff"
   ]
  },
  {
   "cell_type": "code",
   "execution_count": null,
   "id": "96",
   "metadata": {
    "papermill": {
     "duration": 0.160258,
     "end_time": "2023-07-24T08:36:07.603986",
     "exception": false,
     "start_time": "2023-07-24T08:36:07.443728",
     "status": "completed"
    },
    "tags": []
   },
   "outputs": [],
   "source": [
    "df.head(10)"
   ]
  },
  {
   "cell_type": "code",
   "execution_count": null,
   "id": "97",
   "metadata": {
    "papermill": {
     "duration": 0.153924,
     "end_time": "2023-07-24T08:36:07.896624",
     "exception": false,
     "start_time": "2023-07-24T08:36:07.742700",
     "status": "completed"
    },
    "tags": []
   },
   "outputs": [],
   "source": [
    "df.isnull().sum()"
   ]
  },
  {
   "cell_type": "markdown",
   "id": "98",
   "metadata": {
    "papermill": {
     "duration": 0.137602,
     "end_time": "2023-07-24T08:36:08.169686",
     "exception": false,
     "start_time": "2023-07-24T08:36:08.032084",
     "status": "completed"
    },
    "tags": []
   },
   "source": [
    "# 16. Outlier Analysis"
   ]
  },
  {
   "cell_type": "code",
   "execution_count": null,
   "id": "99",
   "metadata": {
    "papermill": {
     "duration": 0.147574,
     "end_time": "2023-07-24T08:36:08.456395",
     "exception": false,
     "start_time": "2023-07-24T08:36:08.308821",
     "status": "completed"
    },
    "tags": []
   },
   "outputs": [],
   "source": [
    "def outlier_thresholds(dataframe, col_name, q1=0.05, q3=0.95):\n",
    "    quartile1 = dataframe[col_name].quantile(q1)\n",
    "    quartile3 = dataframe[col_name].quantile(q3)\n",
    "    interquantile_range = quartile3 - quartile1\n",
    "    up_limit = quartile3 + 1.5 * interquantile_range\n",
    "    low_limit = quartile1 - 1.5 * interquantile_range\n",
    "    return low_limit, up_limit"
   ]
  },
  {
   "cell_type": "code",
   "execution_count": null,
   "id": "100",
   "metadata": {
    "papermill": {
     "duration": 0.146522,
     "end_time": "2023-07-24T08:36:08.738882",
     "exception": false,
     "start_time": "2023-07-24T08:36:08.592360",
     "status": "completed"
    },
    "tags": []
   },
   "outputs": [],
   "source": [
    "def check_outlier(dataframe, col_name):\n",
    "    low_limit, up_limit = outlier_thresholds(dataframe, col_name)\n",
    "    if dataframe[(dataframe[col_name] > up_limit) | (dataframe[col_name] < low_limit)].any(axis=None):\n",
    "        return True\n",
    "    else:\n",
    "        return False"
   ]
  },
  {
   "cell_type": "code",
   "execution_count": null,
   "id": "101",
   "metadata": {
    "papermill": {
     "duration": 0.146502,
     "end_time": "2023-07-24T08:36:09.019197",
     "exception": false,
     "start_time": "2023-07-24T08:36:08.872695",
     "status": "completed"
    },
    "tags": []
   },
   "outputs": [],
   "source": [
    "def check_outlier(dataframe, col_name, plot=False):\n",
    "    low_limit, up_limit = outlier_thresholds(dataframe, col_name)\n",
    "    outliers = dataframe[(dataframe[col_name] > up_limit) | (dataframe[col_name] < low_limit)]\n",
    "    if outliers.any(axis=None):\n",
    "        if plot:\n",
    "            plt.figure(figsize=(8, 6))\n",
    "            sns.boxplot(x=dataframe[col_name])\n",
    "            plt.title(f'Outliers in {col_name}')\n",
    "            plt.show()\n",
    "        return True\n",
    "    else:\n",
    "        return False\n"
   ]
  },
  {
   "cell_type": "code",
   "execution_count": null,
   "id": "102",
   "metadata": {
    "papermill": {
     "duration": 0.162113,
     "end_time": "2023-07-24T08:36:09.333421",
     "exception": false,
     "start_time": "2023-07-24T08:36:09.171308",
     "status": "completed"
    },
    "tags": []
   },
   "outputs": [],
   "source": [
    "def replace_with_thresholds(dataframe, variable, q1=0.05, q3=0.95):\n",
    "    low_limit, up_limit = outlier_thresholds(dataframe, variable, q1=0.05, q3=0.95)\n",
    "    dataframe.loc[(dataframe[variable] < low_limit), variable] = low_limit\n",
    "    dataframe.loc[(dataframe[variable] > up_limit), variable] = up_limit"
   ]
  },
  {
   "cell_type": "code",
   "execution_count": null,
   "id": "103",
   "metadata": {
    "papermill": {
     "duration": 1.473867,
     "end_time": "2023-07-24T08:36:10.954161",
     "exception": false,
     "start_time": "2023-07-24T08:36:09.480294",
     "status": "completed"
    },
    "tags": []
   },
   "outputs": [],
   "source": [
    "for col in df.columns:\n",
    "    print(col, check_outlier(df, col, plot=True))\n",
    "    if check_outlier(df, col, plot=True):\n",
    "        replace_with_thresholds(df, col)"
   ]
  },
  {
   "cell_type": "code",
   "execution_count": null,
   "id": "104",
   "metadata": {
    "papermill": {
     "duration": 0.185509,
     "end_time": "2023-07-24T08:36:11.290740",
     "exception": false,
     "start_time": "2023-07-24T08:36:11.105231",
     "status": "completed"
    },
    "tags": []
   },
   "outputs": [],
   "source": [
    "for col in df.columns:\n",
    "    print(col, check_outlier(df, col))"
   ]
  },
  {
   "cell_type": "markdown",
   "id": "105",
   "metadata": {
    "papermill": {
     "duration": 0.139448,
     "end_time": "2023-07-24T08:36:11.570496",
     "exception": false,
     "start_time": "2023-07-24T08:36:11.431048",
     "status": "completed"
    },
    "tags": []
   },
   "source": [
    "# 17. Feature Extraction"
   ]
  },
  {
   "cell_type": "code",
   "execution_count": null,
   "id": "106",
   "metadata": {
    "papermill": {
     "duration": 0.161404,
     "end_time": "2023-07-24T08:36:11.872691",
     "exception": false,
     "start_time": "2023-07-24T08:36:11.711287",
     "status": "completed"
    },
    "tags": []
   },
   "outputs": [],
   "source": [
    "# Creating a new age variable by categorizing the age variable\n",
    "\n",
    "df.loc[(df[\"Age\"] >= 21) & (df[\"Age\"] < 50), \"NEW_AGE_CAT\"] = \"mature\"\n",
    "df.loc[(df[\"Age\"] >= 50), \"NEW_AGE_CAT\"] = \"senior\""
   ]
  },
  {
   "cell_type": "code",
   "execution_count": null,
   "id": "107",
   "metadata": {
    "papermill": {
     "duration": 0.155714,
     "end_time": "2023-07-24T08:36:12.167660",
     "exception": false,
     "start_time": "2023-07-24T08:36:12.011946",
     "status": "completed"
    },
    "tags": []
   },
   "outputs": [],
   "source": [
    "# BMI below 18.5 is underweight, between 18.5 and 24.9 is normal, between 24.9 and 29.9 is overweight and above 30 is obese\n",
    "\n",
    "df['NEW_BMI'] = pd.cut(x=df['BMI'], bins=[0, 18.5, 24.9, 29.9, 100],labels=[\"Underweight\", \"Healthy\", \"Overweight\", \"Obese\"])"
   ]
  },
  {
   "cell_type": "code",
   "execution_count": null,
   "id": "108",
   "metadata": {
    "papermill": {
     "duration": 0.158658,
     "end_time": "2023-07-24T08:36:12.466411",
     "exception": false,
     "start_time": "2023-07-24T08:36:12.307753",
     "status": "completed"
    },
    "tags": []
   },
   "outputs": [],
   "source": [
    "# Converting Glucose Value to Categorical Variable\n",
    "\n",
    "df[\"NEW_GLUCOSE\"] = pd.cut(x=df[\"Glucose\"], bins=[0, 140, 200, 300], labels=[\"Normal\", \"Prediabetes\", \"Diabetes\"])"
   ]
  },
  {
   "cell_type": "code",
   "execution_count": null,
   "id": "109",
   "metadata": {
    "papermill": {
     "duration": 0.16768,
     "end_time": "2023-07-24T08:36:12.774457",
     "exception": false,
     "start_time": "2023-07-24T08:36:12.606777",
     "status": "completed"
    },
    "tags": []
   },
   "outputs": [],
   "source": [
    "# Creating a categorical variable by considering age and body mass index together 3 breakdowns were captured\n",
    "\n",
    "df.loc[(df[\"BMI\"] < 18.5) & ((df[\"Age\"] >= 21) & (df[\"Age\"] < 50)), \"NEW_AGE_BMI_NOM\"] = \"underweightmature\"\n",
    "df.loc[(df[\"BMI\"] < 18.5) & (df[\"Age\"] >= 50), \"NEW_AGE_BMI_NOM\"] = \"underweightsenior\"\n",
    "df.loc[((df[\"BMI\"] >= 18.5) & (df[\"BMI\"] < 25)) & ((df[\"Age\"] >= 21) & (df[\"Age\"] < 50)), \"NEW_AGE_BMI_NOM\"] = \"healthymature\"\n",
    "df.loc[((df[\"BMI\"] >= 18.5) & (df[\"BMI\"] < 25)) & (df[\"Age\"] >= 50), \"NEW_AGE_BMI_NOM\"] = \"healthysenior\"\n",
    "df.loc[((df[\"BMI\"] >= 25) & (df[\"BMI\"] < 30)) & ((df[\"Age\"] >= 21) & (df[\"Age\"] < 50)), \"NEW_AGE_BMI_NOM\"] = \"overweightmature\"\n",
    "df.loc[((df[\"BMI\"] >= 25) & (df[\"BMI\"] < 30)) & (df[\"Age\"] >= 50), \"NEW_AGE_BMI_NOM\"] = \"overweightsenior\"\n",
    "df.loc[(df[\"BMI\"] > 18.5) & ((df[\"Age\"] >= 21) & (df[\"Age\"] < 50)), \"NEW_AGE_BMI_NOM\"] = \"obesemature\"\n",
    "df.loc[(df[\"BMI\"] > 18.5) & (df[\"Age\"] >= 50), \"NEW_AGE_BMI_NOM\"] = \"obesesenior\""
   ]
  },
  {
   "cell_type": "code",
   "execution_count": null,
   "id": "110",
   "metadata": {
    "papermill": {
     "duration": 0.165638,
     "end_time": "2023-07-24T08:36:13.082359",
     "exception": false,
     "start_time": "2023-07-24T08:36:12.916721",
     "status": "completed"
    },
    "tags": []
   },
   "outputs": [],
   "source": [
    "# Creating a categorical variable by considering age and glucose values together\n",
    "\n",
    "df.loc[(df[\"Glucose\"] < 70) & ((df[\"Age\"] >= 21) & (df[\"Age\"] < 50)), \"NEW_AGE_GLUCOSE_NOM\"] = \"lowmature\"\n",
    "df.loc[(df[\"Glucose\"] < 70) & (df[\"Age\"] >= 50), \"NEW_AGE_GLUCOSE_NOM\"] = \"lowsenior\"\n",
    "df.loc[((df[\"Glucose\"] >= 70) & (df[\"Glucose\"] < 100)) & ((df[\"Age\"] >= 21) & (df[\"Age\"] < 50)), \"NEW_AGE_GLUCOSE_NOM\"] = \"normalmature\"\n",
    "df.loc[((df[\"Glucose\"] >= 70) & (df[\"Glucose\"] < 100)) & (df[\"Age\"] >= 50), \"NEW_AGE_GLUCOSE_NOM\"] = \"normalsenior\"\n",
    "df.loc[((df[\"Glucose\"] >= 100) & (df[\"Glucose\"] <= 125)) & ((df[\"Age\"] >= 21) & (df[\"Age\"] < 50)), \"NEW_AGE_GLUCOSE_NOM\"] = \"hiddenmature\"\n",
    "df.loc[((df[\"Glucose\"] >= 100) & (df[\"Glucose\"] <= 125)) & (df[\"Age\"] >= 50), \"NEW_AGE_GLUCOSE_NOM\"] = \"hiddensenior\"\n",
    "df.loc[(df[\"Glucose\"] > 125) & ((df[\"Age\"] >= 21) & (df[\"Age\"] < 50)), \"NEW_AGE_GLUCOSE_NOM\"] = \"highmature\"\n",
    "df.loc[(df[\"Glucose\"] > 125) & (df[\"Age\"] >= 50), \"NEW_AGE_GLUCOSE_NOM\"] = \"highsenior\""
   ]
  },
  {
   "cell_type": "code",
   "execution_count": null,
   "id": "111",
   "metadata": {
    "papermill": {
     "duration": 0.163939,
     "end_time": "2023-07-24T08:36:13.385883",
     "exception": false,
     "start_time": "2023-07-24T08:36:13.221944",
     "status": "completed"
    },
    "tags": []
   },
   "outputs": [],
   "source": [
    "# Deriving a Categorical variable with Insulin Value.\n",
    "\n",
    "def set_insulin(dataframe, col_name=\"Insulin\"):\n",
    "    if 16 <= dataframe[col_name] <= 166:\n",
    "        return\n",
    "    else:\n",
    "        return \"Abnormal\"\n",
    "\n",
    "df[\"NEW_INSULIN_SCORE\"] = df.apply(set_insulin, axis=1)\n",
    "df[\"NEW_GLUCOSE * INSULIN\"] =df[\"Glucose\"] * df[\"Insulin\"]\n"
   ]
  },
  {
   "cell_type": "code",
   "execution_count": null,
   "id": "112",
   "metadata": {
    "papermill": {
     "duration": 0.14969,
     "end_time": "2023-07-24T08:36:13.674685",
     "exception": false,
     "start_time": "2023-07-24T08:36:13.524995",
     "status": "completed"
    },
    "tags": []
   },
   "outputs": [],
   "source": [
    "# Attention to values with zero !!!\n",
    "\n",
    "df[\"NEW_GLUCOSE * PREGNANCIES\"] = df[\"Glucose\"] * df[\"Pregnancies\"]"
   ]
  },
  {
   "cell_type": "code",
   "execution_count": null,
   "id": "113",
   "metadata": {
    "papermill": {
     "duration": 0.148312,
     "end_time": "2023-07-24T08:36:13.964497",
     "exception": false,
     "start_time": "2023-07-24T08:36:13.816185",
     "status": "completed"
    },
    "tags": []
   },
   "outputs": [],
   "source": [
    "# Translating Column Names to Uppercase Letters.\n",
    "\n",
    "df.columns = [col.upper() for col in df.columns]"
   ]
  },
  {
   "cell_type": "code",
   "execution_count": null,
   "id": "114",
   "metadata": {
    "papermill": {
     "duration": 0.162391,
     "end_time": "2023-07-24T08:36:14.266311",
     "exception": false,
     "start_time": "2023-07-24T08:36:14.103920",
     "status": "completed"
    },
    "tags": []
   },
   "outputs": [],
   "source": [
    "df.head()"
   ]
  },
  {
   "cell_type": "code",
   "execution_count": null,
   "id": "115",
   "metadata": {
    "papermill": {
     "duration": 0.15644,
     "end_time": "2023-07-24T08:36:14.562930",
     "exception": false,
     "start_time": "2023-07-24T08:36:14.406490",
     "status": "completed"
    },
    "tags": []
   },
   "outputs": [],
   "source": [
    "# Analysis of Variables.\n",
    "\n",
    "def grab_col_names(dataframe, cat_th=10, car_th=20):\n",
    "    \"\"\"\n",
    "\n",
    "    Returns the names of categorical, numeric and categorical but cardinal variables in the data set.\n",
    "    Note Categorical variables include categorical variables with numeric appearance.\n",
    "\n",
    "    Parameters\n",
    "    ------\n",
    "        dataframe: dataframe\n",
    "                Variable names of the dataframe to be taken\n",
    "        cat_th: int, optional\n",
    "                class threshold for numeric but categorical variables\n",
    "        car_th: int, optinal\n",
    "                class threshold for categorical but cardinal variables\n",
    "\n",
    "    Returns\n",
    "    ------\n",
    "        cat_cols: list\n",
    "                Categorical variable list\n",
    "        num_cols: list\n",
    "                Numeric variable list\n",
    "        cat_but_car: list\n",
    "                List of cardinal variables with categorical appearance\n",
    "\n",
    "    Examples\n",
    "    ------\n",
    "        import seaborn as sns\n",
    "        df = sns.load_dataset(\"iris\")\n",
    "        print(grab_col_names(df))\n",
    "\n",
    "\n",
    "    Notes\n",
    "    ------\n",
    "        cat_cols + num_cols + cat_but_car = total number of variables\n",
    "        num_but_cat is inside cat_cols.\n",
    "        The sum of the 3 return lists equals the total number of variables: cat_cols + num_cols + cat_but_car = number of variables\n",
    "\n",
    "    \"\"\"\n",
    "\n",
    "    # cat_cols, cat_but_car\n",
    "    cat_cols = [col for col in dataframe.columns if dataframe[col].dtypes == \"O\"] \n",
    "\n",
    "    num_but_cat = [col for col in dataframe.columns if dataframe[col].nunique() < cat_th and\n",
    "                   dataframe[col].dtypes != \"O\"]\n",
    "\n",
    "    cat_but_car = [col for col in dataframe.columns if dataframe[col].nunique() > car_th and\n",
    "                   dataframe[col].dtypes == \"O\"]\n",
    "\n",
    "    cat_cols = cat_cols + num_but_cat\n",
    "\n",
    "    cat_cols = [col for col in cat_cols if col not in cat_but_car] \n",
    "\n",
    "    num_cols = [col for col in dataframe.columns if dataframe[col].dtypes != \"O\"] \n",
    "\n",
    "    num_cols = [col for col in num_cols if col not in num_but_cat] \n",
    "    \n",
    "    print(f\"Observations: {dataframe.shape[0]}\") # data frame in içerisindeki gözlem sayısına eriştik.\n",
    "    print(f\"Variables: {dataframe.shape[1]}\") # data frame in içerisindeki değişken sayısına eriştik.\n",
    "    print(f'cat_cols: {len(cat_cols)}') # kaçtane kategorik değişken olduğunu tespit ettik.\n",
    "    print(f'num_cols: {len(num_cols)}') # kaç tane nümerik değişken olduğunu tespit ettik.\n",
    "    print(f'cat_but_car: {len(cat_but_car)}') # kaç tane kardinal değişken olduğunu tespit ettik.\n",
    "    print(f'num_but_cat: {len(num_but_cat)}') # kaç tane numerik gibi görünüp kategorik olan değişken olduğunu belirledi\n",
    "\n",
    "\n",
    "    return cat_cols, num_cols, cat_but_car, num_but_cat"
   ]
  },
  {
   "cell_type": "code",
   "execution_count": null,
   "id": "116",
   "metadata": {
    "papermill": {
     "duration": 0.16119,
     "end_time": "2023-07-24T08:36:14.863357",
     "exception": false,
     "start_time": "2023-07-24T08:36:14.702167",
     "status": "completed"
    },
    "tags": []
   },
   "outputs": [],
   "source": [
    "cat_cols, num_cols, cat_but_car,  num_but_cat = grab_col_names(df)"
   ]
  },
  {
   "cell_type": "code",
   "execution_count": null,
   "id": "117",
   "metadata": {
    "papermill": {
     "duration": 0.154464,
     "end_time": "2023-07-24T08:36:15.156984",
     "exception": false,
     "start_time": "2023-07-24T08:36:15.002520",
     "status": "completed"
    },
    "tags": []
   },
   "outputs": [],
   "source": [
    "cat_cols"
   ]
  },
  {
   "cell_type": "code",
   "execution_count": null,
   "id": "118",
   "metadata": {
    "papermill": {
     "duration": 0.155893,
     "end_time": "2023-07-24T08:36:15.451360",
     "exception": false,
     "start_time": "2023-07-24T08:36:15.295467",
     "status": "completed"
    },
    "tags": []
   },
   "outputs": [],
   "source": [
    "num_cols"
   ]
  },
  {
   "cell_type": "code",
   "execution_count": null,
   "id": "119",
   "metadata": {
    "papermill": {
     "duration": 0.166099,
     "end_time": "2023-07-24T08:36:15.761043",
     "exception": false,
     "start_time": "2023-07-24T08:36:15.594944",
     "status": "completed"
    },
    "tags": []
   },
   "outputs": [],
   "source": [
    "cat_but_car"
   ]
  },
  {
   "cell_type": "code",
   "execution_count": null,
   "id": "120",
   "metadata": {
    "papermill": {
     "duration": 0.14959,
     "end_time": "2023-07-24T08:36:16.051929",
     "exception": false,
     "start_time": "2023-07-24T08:36:15.902339",
     "status": "completed"
    },
    "tags": []
   },
   "outputs": [],
   "source": [
    "num_but_cat"
   ]
  },
  {
   "cell_type": "markdown",
   "id": "121",
   "metadata": {
    "papermill": {
     "duration": 0.14008,
     "end_time": "2023-07-24T08:36:16.331232",
     "exception": false,
     "start_time": "2023-07-24T08:36:16.191152",
     "status": "completed"
    },
    "tags": []
   },
   "source": [
    "# 18. Encoding"
   ]
  },
  {
   "cell_type": "code",
   "execution_count": null,
   "id": "122",
   "metadata": {
    "papermill": {
     "duration": 0.14923,
     "end_time": "2023-07-24T08:36:16.621510",
     "exception": false,
     "start_time": "2023-07-24T08:36:16.472280",
     "status": "completed"
    },
    "tags": []
   },
   "outputs": [],
   "source": [
    "# Label Encoding\n",
    "\n",
    "def label_encoder(dataframe, binary_col):\n",
    "    labelencoder = LabelEncoder()\n",
    "    dataframe[binary_col] = labelencoder.fit_transform(dataframe[binary_col])\n",
    "    return dataframe"
   ]
  },
  {
   "cell_type": "code",
   "execution_count": null,
   "id": "123",
   "metadata": {
    "papermill": {
     "duration": 0.154771,
     "end_time": "2023-07-24T08:36:16.916468",
     "exception": false,
     "start_time": "2023-07-24T08:36:16.761697",
     "status": "completed"
    },
    "tags": []
   },
   "outputs": [],
   "source": [
    "binary_cols = [col for col in df.columns if df[col].dtypes == \"O\" and df[col].nunique() == 2]"
   ]
  },
  {
   "cell_type": "code",
   "execution_count": null,
   "id": "124",
   "metadata": {
    "papermill": {
     "duration": 0.152304,
     "end_time": "2023-07-24T08:36:17.208581",
     "exception": false,
     "start_time": "2023-07-24T08:36:17.056277",
     "status": "completed"
    },
    "tags": []
   },
   "outputs": [],
   "source": [
    "binary_cols"
   ]
  },
  {
   "cell_type": "code",
   "execution_count": null,
   "id": "125",
   "metadata": {
    "papermill": {
     "duration": 0.149817,
     "end_time": "2023-07-24T08:36:17.498431",
     "exception": false,
     "start_time": "2023-07-24T08:36:17.348614",
     "status": "completed"
    },
    "tags": []
   },
   "outputs": [],
   "source": [
    "for col in binary_cols:\n",
    "    df = label_encoder(df, col)"
   ]
  },
  {
   "cell_type": "code",
   "execution_count": null,
   "id": "126",
   "metadata": {
    "papermill": {
     "duration": 0.16471,
     "end_time": "2023-07-24T08:36:17.802201",
     "exception": false,
     "start_time": "2023-07-24T08:36:17.637491",
     "status": "completed"
    },
    "tags": []
   },
   "outputs": [],
   "source": [
    "df.head(10)"
   ]
  },
  {
   "cell_type": "code",
   "execution_count": null,
   "id": "127",
   "metadata": {
    "papermill": {
     "duration": 0.149144,
     "end_time": "2023-07-24T08:36:18.092114",
     "exception": false,
     "start_time": "2023-07-24T08:36:17.942970",
     "status": "completed"
    },
    "tags": []
   },
   "outputs": [],
   "source": [
    "# One-Hot Encoding\n",
    "\n",
    "# cat_cols listesinin güncelleme işlemi"
   ]
  },
  {
   "cell_type": "code",
   "execution_count": null,
   "id": "128",
   "metadata": {
    "papermill": {
     "duration": 0.150166,
     "end_time": "2023-07-24T08:36:18.382486",
     "exception": false,
     "start_time": "2023-07-24T08:36:18.232320",
     "status": "completed"
    },
    "tags": []
   },
   "outputs": [],
   "source": [
    "cat_cols = [col for col in cat_cols if col not in binary_cols and col not in [\"OUTCOME\"]]"
   ]
  },
  {
   "cell_type": "code",
   "execution_count": null,
   "id": "129",
   "metadata": {
    "papermill": {
     "duration": 0.151709,
     "end_time": "2023-07-24T08:36:18.674357",
     "exception": false,
     "start_time": "2023-07-24T08:36:18.522648",
     "status": "completed"
    },
    "tags": []
   },
   "outputs": [],
   "source": [
    "cat_cols"
   ]
  },
  {
   "cell_type": "code",
   "execution_count": null,
   "id": "130",
   "metadata": {
    "papermill": {
     "duration": 0.153894,
     "end_time": "2023-07-24T08:36:18.969136",
     "exception": false,
     "start_time": "2023-07-24T08:36:18.815242",
     "status": "completed"
    },
    "tags": []
   },
   "outputs": [],
   "source": [
    "def one_hot_encoder(dataframe, categorical_cols, drop_first=False):\n",
    "    dataframe = pd.get_dummies(dataframe, columns=categorical_cols, drop_first=drop_first)\n",
    "    return dataframe"
   ]
  },
  {
   "cell_type": "code",
   "execution_count": null,
   "id": "131",
   "metadata": {
    "papermill": {
     "duration": 0.157047,
     "end_time": "2023-07-24T08:36:19.266851",
     "exception": false,
     "start_time": "2023-07-24T08:36:19.109804",
     "status": "completed"
    },
    "tags": []
   },
   "outputs": [],
   "source": [
    "df = one_hot_encoder(df, cat_cols, drop_first=True)"
   ]
  },
  {
   "cell_type": "code",
   "execution_count": null,
   "id": "132",
   "metadata": {
    "papermill": {
     "duration": 0.169737,
     "end_time": "2023-07-24T08:36:19.577255",
     "exception": false,
     "start_time": "2023-07-24T08:36:19.407518",
     "status": "completed"
    },
    "tags": []
   },
   "outputs": [],
   "source": [
    "df.head(10)"
   ]
  },
  {
   "cell_type": "markdown",
   "id": "133",
   "metadata": {
    "papermill": {
     "duration": 0.142589,
     "end_time": "2023-07-24T08:36:19.925332",
     "exception": false,
     "start_time": "2023-07-24T08:36:19.782743",
     "status": "completed"
    },
    "tags": []
   },
   "source": [
    "# 19. Standardization Process"
   ]
  },
  {
   "cell_type": "code",
   "execution_count": null,
   "id": "134",
   "metadata": {
    "papermill": {
     "duration": 0.153068,
     "end_time": "2023-07-24T08:36:20.220043",
     "exception": false,
     "start_time": "2023-07-24T08:36:20.066975",
     "status": "completed"
    },
    "tags": []
   },
   "outputs": [],
   "source": [
    "num_cols"
   ]
  },
  {
   "cell_type": "code",
   "execution_count": null,
   "id": "135",
   "metadata": {
    "papermill": {
     "duration": 0.151693,
     "end_time": "2023-07-24T08:36:20.513905",
     "exception": false,
     "start_time": "2023-07-24T08:36:20.362212",
     "status": "completed"
    },
    "tags": []
   },
   "outputs": [],
   "source": [
    "scaler = RobustScaler()"
   ]
  },
  {
   "cell_type": "code",
   "execution_count": null,
   "id": "136",
   "metadata": {
    "papermill": {
     "duration": 0.161559,
     "end_time": "2023-07-24T08:36:20.817365",
     "exception": false,
     "start_time": "2023-07-24T08:36:20.655806",
     "status": "completed"
    },
    "tags": []
   },
   "outputs": [],
   "source": [
    "df[num_cols] = scaler.fit_transform(df[num_cols])"
   ]
  },
  {
   "cell_type": "code",
   "execution_count": null,
   "id": "137",
   "metadata": {
    "papermill": {
     "duration": 0.170977,
     "end_time": "2023-07-24T08:36:21.130789",
     "exception": false,
     "start_time": "2023-07-24T08:36:20.959812",
     "status": "completed"
    },
    "tags": []
   },
   "outputs": [],
   "source": [
    "df.head(10)"
   ]
  },
  {
   "cell_type": "code",
   "execution_count": null,
   "id": "138",
   "metadata": {
    "papermill": {
     "duration": 0.153517,
     "end_time": "2023-07-24T08:36:21.427288",
     "exception": false,
     "start_time": "2023-07-24T08:36:21.273771",
     "status": "completed"
    },
    "tags": []
   },
   "outputs": [],
   "source": [
    "df.shape"
   ]
  },
  {
   "cell_type": "markdown",
   "id": "139",
   "metadata": {
    "papermill": {
     "duration": 0.142518,
     "end_time": "2023-07-24T08:36:21.712291",
     "exception": false,
     "start_time": "2023-07-24T08:36:21.569773",
     "status": "completed"
    },
    "tags": []
   },
   "source": [
    "# 20. Model Building"
   ]
  },
  {
   "cell_type": "code",
   "execution_count": null,
   "id": "140",
   "metadata": {
    "papermill": {
     "duration": 0.15979,
     "end_time": "2023-07-24T08:36:22.017181",
     "exception": false,
     "start_time": "2023-07-24T08:36:21.857391",
     "status": "completed"
    },
    "tags": []
   },
   "outputs": [],
   "source": [
    "# Creating the Dependent Variable.\n",
    "\n",
    "y = df[\"OUTCOME\"]\n",
    "\n",
    "# Creating Independent Variables.\n",
    "\n",
    "X = df.drop(\"OUTCOME\", axis=1)\n",
    "\n",
    "# Splitting the Data into Training and Test Sets\n",
    "\n",
    "X_train, X_test, y_train, y_test = train_test_split(X, y, test_size=0.30, random_state=17)"
   ]
  },
  {
   "cell_type": "markdown",
   "id": "141",
   "metadata": {
    "papermill": {
     "duration": 0.143611,
     "end_time": "2023-07-24T08:36:22.303709",
     "exception": false,
     "start_time": "2023-07-24T08:36:22.160098",
     "status": "completed"
    },
    "tags": []
   },
   "source": [
    "# 20.1.RandomForestClassifier"
   ]
  },
  {
   "cell_type": "code",
   "execution_count": null,
   "id": "142",
   "metadata": {
    "papermill": {
     "duration": 0.472166,
     "end_time": "2023-07-24T08:36:22.918064",
     "exception": false,
     "start_time": "2023-07-24T08:36:22.445898",
     "status": "completed"
    },
    "tags": []
   },
   "outputs": [],
   "source": [
    "# Random Forest Classifier Model Training\n",
    "\n",
    "rf_model = RandomForestClassifier(random_state=46).fit(X_train, y_train)\n",
    "\n",
    "# Prediction using Random Forest Classifier Model\n",
    "\n",
    "y_pred = rf_model.predict(X_test)\n",
    "\n",
    "print(\"RandomForestClassifier:\")\n",
    "print(f\"Accuracy: {round(accuracy_score(y_pred, y_test), 4)}\")\n",
    "print(f\"Recall: {round(recall_score(y_pred,y_test),4)}\")\n",
    "print(f\"Precision: {round(precision_score(y_pred,y_test), 4)}\")\n",
    "print(f\"F1: {round(f1_score(y_pred,y_test), 4)}\")\n",
    "print(f\"Auc: {round(roc_auc_score(y_pred,y_test), 4)}\")"
   ]
  },
  {
   "cell_type": "code",
   "execution_count": null,
   "id": "143",
   "metadata": {
    "papermill": {
     "duration": 0.155837,
     "end_time": "2023-07-24T08:36:23.217146",
     "exception": false,
     "start_time": "2023-07-24T08:36:23.061309",
     "status": "completed"
    },
    "tags": []
   },
   "outputs": [],
   "source": [
    "def plot_importance(model, features, num=len(X), save=False):\n",
    "    feature_imp = pd.DataFrame({'Value': model.feature_importances_, 'Feature': features.columns})\n",
    "    plt.figure(figsize=(10, 10))\n",
    "    sns.set(font_scale=1)\n",
    "    sns.barplot(x=\"Value\", y=\"Feature\", data=feature_imp.sort_values(by=\"Value\", ascending=False)[0:num])\n",
    "    plt.title('Feature Importance - RandomForestClassifier')\n",
    "    plt.tight_layout()\n",
    "    plt.show(block=True)\n",
    "    if save:\n",
    "        plt.savefig('importances.png')"
   ]
  },
  {
   "cell_type": "code",
   "execution_count": null,
   "id": "144",
   "metadata": {
    "papermill": {
     "duration": 1.009997,
     "end_time": "2023-07-24T08:36:24.370785",
     "exception": false,
     "start_time": "2023-07-24T08:36:23.360788",
     "status": "completed"
    },
    "tags": []
   },
   "outputs": [],
   "source": [
    "plot_importance(rf_model, X)"
   ]
  },
  {
   "cell_type": "markdown",
   "id": "145",
   "metadata": {
    "papermill": {
     "duration": 0.145433,
     "end_time": "2023-07-24T08:36:24.672332",
     "exception": false,
     "start_time": "2023-07-24T08:36:24.526899",
     "status": "completed"
    },
    "tags": []
   },
   "source": [
    "# 20.1.1.Random Forest Classifier Hyperparameter Optimization"
   ]
  },
  {
   "cell_type": "code",
   "execution_count": null,
   "id": "146",
   "metadata": {
    "papermill": {
     "duration": 76.024008,
     "end_time": "2023-07-24T08:37:40.841685",
     "exception": false,
     "start_time": "2023-07-24T08:36:24.817677",
     "status": "completed"
    },
    "tags": []
   },
   "outputs": [],
   "source": [
    "rf_model = RandomForestClassifier(random_state=46)\n",
    "parameters = {'n_estimators': [100, 200, 300],\n",
    "              'max_depth': [None, 5, 10],\n",
    "              'min_samples_split': [2, 5, 10]}\n",
    "rf_grid = GridSearchCV(rf_model, parameters, cv=5).fit(X_train, y_train)\n",
    "\n",
    "best_rf_model = rf_grid.best_estimator_\n",
    "\n",
    "# En iyi modeli kullanarak tahmin yapma\n",
    "y_pred = best_rf_model.predict(X_test)\n",
    "print(\"Random Forest Classifier - Hyperparameter Optimization\")\n",
    "print(f\"Accuracy: {round(accuracy_score(y_pred, y_test), 4)}\")\n",
    "print(f\"Recall: {round(recall_score(y_pred, y_test), 4)}\")\n",
    "print(f\"Precision: {round(precision_score(y_pred, y_test), 4)}\")\n",
    "print(f\"F1: {round(f1_score(y_pred, y_test), 4)}\")\n",
    "print(f\"AUC: {round(roc_auc_score(y_pred, y_test), 4)}\")"
   ]
  },
  {
   "cell_type": "markdown",
   "id": "147",
   "metadata": {
    "papermill": {
     "duration": 0.146883,
     "end_time": "2023-07-24T08:37:41.136311",
     "exception": false,
     "start_time": "2023-07-24T08:37:40.989428",
     "status": "completed"
    },
    "tags": []
   },
   "source": [
    "# 20.2.Logistic Regression"
   ]
  },
  {
   "cell_type": "code",
   "execution_count": null,
   "id": "148",
   "metadata": {
    "papermill": {
     "duration": 0.226689,
     "end_time": "2023-07-24T08:37:41.510169",
     "exception": false,
     "start_time": "2023-07-24T08:37:41.283480",
     "status": "completed"
    },
    "tags": []
   },
   "outputs": [],
   "source": [
    "lr_model = LogisticRegression(random_state=46).fit(X_train, y_train)\n",
    "\n",
    "lr_pred = lr_model.predict(X_test)\n",
    "\n",
    "print(\"Logistic Regression:\")\n",
    "print(f\"Accuracy: {round(accuracy_score(lr_pred, y_test), 4)}\")\n",
    "print(f\"Recall: {round(recall_score(lr_pred, y_test), 4)}\")\n",
    "print(f\"Precision: {round(precision_score(lr_pred, y_test), 4)}\")\n",
    "print(f\"F1: {round(f1_score(lr_pred, y_test), 4)}\")\n",
    "print(f\"AUC: {round(roc_auc_score(lr_pred, y_test), 4)}\")"
   ]
  },
  {
   "cell_type": "markdown",
   "id": "149",
   "metadata": {
    "papermill": {
     "duration": 0.146097,
     "end_time": "2023-07-24T08:37:41.849516",
     "exception": false,
     "start_time": "2023-07-24T08:37:41.703419",
     "status": "completed"
    },
    "tags": []
   },
   "source": [
    "# 20.2.1.Logistic Regression Hyperparameter Optimization"
   ]
  },
  {
   "cell_type": "code",
   "execution_count": null,
   "id": "150",
   "metadata": {
    "papermill": {
     "duration": 0.853329,
     "end_time": "2023-07-24T08:37:42.850192",
     "exception": false,
     "start_time": "2023-07-24T08:37:41.996863",
     "status": "completed"
    },
    "tags": []
   },
   "outputs": [],
   "source": [
    "lr_model = LogisticRegression(random_state=46)\n",
    "parameters = {'C': [0.1, 1, 10],\n",
    "              'penalty': ['l1', 'l2']}\n",
    "lr_grid = GridSearchCV(lr_model, parameters, cv=5).fit(X_train, y_train)\n",
    "\n",
    "best_lr_model = lr_grid.best_estimator_\n",
    "\n",
    "print(\"Logistic Regression - Hyperparameter Optimization\")\n",
    "print(f\"Best Parameters: {lr_grid.best_params_}\")\n",
    "print(f\"Accuracy: {round(lr_grid.best_score_, 4)}\")\n",
    "print(f\"Recall: {round(recall_score(best_lr_model.predict(X_test), y_test), 4)}\")\n",
    "print(f\"Precision: {round(precision_score(best_lr_model.predict(X_test), y_test), 4)}\")\n",
    "print(f\"F1: {round(f1_score(best_lr_model.predict(X_test), y_test), 4)}\")\n",
    "print(f\"AUC: {round(roc_auc_score(best_lr_model.predict(X_test), y_test), 4)}\")"
   ]
  },
  {
   "cell_type": "markdown",
   "id": "151",
   "metadata": {
    "papermill": {
     "duration": 0.148522,
     "end_time": "2023-07-24T08:37:43.186086",
     "exception": false,
     "start_time": "2023-07-24T08:37:43.037564",
     "status": "completed"
    },
    "tags": []
   },
   "source": [
    "# 20.3.K-Nearest Neighbors (KNN)"
   ]
  },
  {
   "cell_type": "code",
   "execution_count": null,
   "id": "152",
   "metadata": {
    "papermill": {
     "duration": 0.247517,
     "end_time": "2023-07-24T08:37:43.581928",
     "exception": false,
     "start_time": "2023-07-24T08:37:43.334411",
     "status": "completed"
    },
    "tags": []
   },
   "outputs": [],
   "source": [
    "knn_model = KNeighborsClassifier().fit(X_train, y_train)\n",
    "\n",
    "knn_pred = knn_model.predict(X_test)\n",
    "\n",
    "print(\"K-Nearest Neighbors (KNN):\")\n",
    "print(f\"Accuracy: {round(accuracy_score(knn_pred, y_test), 4)}\")\n",
    "print(f\"Recall: {round(recall_score(knn_pred, y_test), 4)}\")\n",
    "print(f\"Precision: {round(precision_score(knn_pred, y_test), 4)}\")\n",
    "print(f\"F1: {round(f1_score(knn_pred, y_test), 4)}\")\n",
    "print(f\"AUC: {round(roc_auc_score(knn_pred, y_test), 4)}\")"
   ]
  },
  {
   "cell_type": "markdown",
   "id": "153",
   "metadata": {
    "papermill": {
     "duration": 0.164891,
     "end_time": "2023-07-24T08:37:43.892622",
     "exception": false,
     "start_time": "2023-07-24T08:37:43.727731",
     "status": "completed"
    },
    "tags": []
   },
   "source": [
    "# 20.3.1.K-Nearest Neighbors (KNN) Hyperparameter Optimization"
   ]
  },
  {
   "cell_type": "code",
   "execution_count": null,
   "id": "154",
   "metadata": {
    "papermill": {
     "duration": 0.649236,
     "end_time": "2023-07-24T08:37:44.699669",
     "exception": false,
     "start_time": "2023-07-24T08:37:44.050433",
     "status": "completed"
    },
    "tags": []
   },
   "outputs": [],
   "source": [
    "knn_model = KNeighborsClassifier()\n",
    "parameters = {'n_neighbors': [3, 5, 7],\n",
    "              'weights': ['uniform', 'distance']}\n",
    "knn_grid = GridSearchCV(knn_model, parameters, cv=5).fit(X_train, y_train)\n",
    "\n",
    "best_knn_model = knn_grid.best_estimator_\n",
    "\n",
    "print(\"K-Nearest Neighbors (KNN) - Hyperparameter Optimization\")\n",
    "print(f\"Best Parameters: {knn_grid.best_params_}\")\n",
    "print(f\"Accuracy: {round(knn_grid.best_score_, 4)}\")\n",
    "print(f\"Recall: {round(recall_score(best_knn_model.predict(X_test), y_test), 4)}\")\n",
    "print(f\"Precision: {round(precision_score(best_knn_model.predict(X_test), y_test), 4)}\")\n",
    "print(f\"F1: {round(f1_score(best_knn_model.predict(X_test), y_test), 4)}\")\n",
    "print(f\"AUC: {round(roc_auc_score(best_knn_model.predict(X_test), y_test), 4)}\")"
   ]
  },
  {
   "cell_type": "markdown",
   "id": "155",
   "metadata": {
    "papermill": {
     "duration": 0.149435,
     "end_time": "2023-07-24T08:37:45.001389",
     "exception": false,
     "start_time": "2023-07-24T08:37:44.851954",
     "status": "completed"
    },
    "tags": []
   },
   "source": [
    "# 20.4.Support Vector Classifier (SVC)"
   ]
  },
  {
   "cell_type": "code",
   "execution_count": null,
   "id": "156",
   "metadata": {
    "papermill": {
     "duration": 0.193307,
     "end_time": "2023-07-24T08:37:45.343838",
     "exception": false,
     "start_time": "2023-07-24T08:37:45.150531",
     "status": "completed"
    },
    "tags": []
   },
   "outputs": [],
   "source": [
    "svc_model = SVC(random_state=46).fit(X_train, y_train)\n",
    "\n",
    "svc_pred = svc_model.predict(X_test)\n",
    "\n",
    "print(\"Support Vector Classifier (SVC):\")\n",
    "print(f\"Accuracy: {round(accuracy_score(svc_pred, y_test), 4)}\")\n",
    "print(f\"Recall: {round(recall_score(svc_pred, y_test), 4)}\")\n",
    "print(f\"Precision: {round(precision_score(svc_pred, y_test), 4)}\")\n",
    "print(f\"F1: {round(f1_score(svc_pred, y_test), 4)}\")\n",
    "print(f\"AUC: {round(roc_auc_score(svc_pred, y_test), 4)}\")"
   ]
  },
  {
   "cell_type": "markdown",
   "id": "157",
   "metadata": {
    "papermill": {
     "duration": 0.17262,
     "end_time": "2023-07-24T08:37:45.664872",
     "exception": false,
     "start_time": "2023-07-24T08:37:45.492252",
     "status": "completed"
    },
    "tags": []
   },
   "source": [
    "# 20.4.1.Support Vector Classifier (SVC) Hyperparameter Optimization"
   ]
  },
  {
   "cell_type": "code",
   "execution_count": null,
   "id": "158",
   "metadata": {
    "papermill": {
     "duration": 0.827291,
     "end_time": "2023-07-24T08:37:46.644192",
     "exception": false,
     "start_time": "2023-07-24T08:37:45.816901",
     "status": "completed"
    },
    "tags": []
   },
   "outputs": [],
   "source": [
    "svc_model = SVC(random_state=46)\n",
    "parameters = {'C': [0.1, 1, 10],\n",
    "              'kernel': ['linear', 'rbf']}\n",
    "svc_grid = GridSearchCV(svc_model, parameters, cv=5).fit(X_train, y_train)\n",
    "\n",
    "best_svc_model = svc_grid.best_estimator_\n",
    "\n",
    "print(\"Support Vector Classifier (SVC) - Hyperparameter Optimization\")\n",
    "print(f\"Best Parameters: {svc_grid.best_params_}\")\n",
    "print(f\"Accuracy: {round(svc_grid.best_score_, 4)}\")\n",
    "print(f\"Recall: {round(recall_score(best_svc_model.predict(X_test), y_test), 4)}\")\n",
    "print(f\"Precision: {round(precision_score(best_svc_model.predict(X_test), y_test), 4)}\")\n",
    "print(f\"F1: {round(f1_score(best_svc_model.predict(X_test), y_test), 4)}\")\n",
    "print(f\"AUC: {round(roc_auc_score(best_svc_model.predict(X_test), y_test), 4)}\")"
   ]
  },
  {
   "cell_type": "markdown",
   "id": "159",
   "metadata": {
    "papermill": {
     "duration": 0.148304,
     "end_time": "2023-07-24T08:37:46.939686",
     "exception": false,
     "start_time": "2023-07-24T08:37:46.791382",
     "status": "completed"
    },
    "tags": []
   },
   "source": [
    "# 20.5.Decision Tree Classifier"
   ]
  },
  {
   "cell_type": "code",
   "execution_count": null,
   "id": "160",
   "metadata": {
    "papermill": {
     "duration": 0.184691,
     "end_time": "2023-07-24T08:37:47.273618",
     "exception": false,
     "start_time": "2023-07-24T08:37:47.088927",
     "status": "completed"
    },
    "tags": []
   },
   "outputs": [],
   "source": [
    "dt_model = DecisionTreeClassifier(random_state=46).fit(X_train, y_train)\n",
    "\n",
    "dt_pred = dt_model.predict(X_test)\n",
    "\n",
    "print(\"Decision Tree Classifier:\")\n",
    "print(f\"Accuracy: {round(accuracy_score(dt_pred, y_test), 4)}\")\n",
    "print(f\"Recall: {round(recall_score(dt_pred, y_test), 4)}\")\n",
    "print(f\"Precision: {round(precision_score(dt_pred, y_test), 4)}\")\n",
    "print(f\"F1: {round(f1_score(dt_pred, y_test), 4)}\")\n",
    "print(f\"AUC: {round(roc_auc_score(dt_pred, y_test), 4)}\")"
   ]
  },
  {
   "cell_type": "code",
   "execution_count": null,
   "id": "161",
   "metadata": {
    "papermill": {
     "duration": 0.158602,
     "end_time": "2023-07-24T08:37:47.579593",
     "exception": false,
     "start_time": "2023-07-24T08:37:47.420991",
     "status": "completed"
    },
    "tags": []
   },
   "outputs": [],
   "source": [
    "def plot_importance(model, features, num=len(X), save=False):\n",
    "    feature_imp = pd.DataFrame({'Value': model.feature_importances_, 'Feature': features.columns})\n",
    "    plt.figure(figsize=(10, 10))\n",
    "    sns.set(font_scale=1)\n",
    "    sns.barplot(x=\"Value\", y=\"Feature\", data=feature_imp.sort_values(by=\"Value\", ascending=False)[0:num])\n",
    "    plt.title(f'Feature Importance - {model.__class__.__name__}')\n",
    "    plt.tight_layout()\n",
    "    plt.show(block=True)\n",
    "    if save:\n",
    "        plt.savefig('importances.png')"
   ]
  },
  {
   "cell_type": "code",
   "execution_count": null,
   "id": "162",
   "metadata": {
    "papermill": {
     "duration": 0.984008,
     "end_time": "2023-07-24T08:37:48.709900",
     "exception": false,
     "start_time": "2023-07-24T08:37:47.725892",
     "status": "completed"
    },
    "tags": []
   },
   "outputs": [],
   "source": [
    "plot_importance(dt_model, X)"
   ]
  },
  {
   "cell_type": "markdown",
   "id": "163",
   "metadata": {
    "papermill": {
     "duration": 0.150471,
     "end_time": "2023-07-24T08:37:49.021622",
     "exception": false,
     "start_time": "2023-07-24T08:37:48.871151",
     "status": "completed"
    },
    "tags": []
   },
   "source": [
    "# 20.5.1.Decision Tree Classifier Hyperparameter Optimization"
   ]
  },
  {
   "cell_type": "code",
   "execution_count": null,
   "id": "164",
   "metadata": {
    "papermill": {
     "duration": 0.624206,
     "end_time": "2023-07-24T08:37:49.798924",
     "exception": false,
     "start_time": "2023-07-24T08:37:49.174718",
     "status": "completed"
    },
    "tags": []
   },
   "outputs": [],
   "source": [
    "dt_model = DecisionTreeClassifier(random_state=46)\n",
    "parameters = {'max_depth': [None, 5, 10],\n",
    "              'min_samples_split': [2, 5, 10]}\n",
    "dt_grid = GridSearchCV(dt_model, parameters, cv=5).fit(X_train, y_train)\n",
    "\n",
    "best_dt_model = dt_grid.best_estimator_\n",
    "\n",
    "print(\"Decision Tree Classifier - Hyperparameter Optimization\")\n",
    "print(f\"Best Parameters: {dt_grid.best_params_}\")\n",
    "print(f\"Accuracy: {round(dt_grid.best_score_, 4)}\")\n",
    "print(f\"Recall: {round(recall_score(best_dt_model.predict(X_test), y_test), 4)}\")\n",
    "print(f\"Precision: {round(precision_score(best_dt_model.predict(X_test), y_test), 4)}\")\n",
    "print(f\"F1: {round(f1_score(best_dt_model.predict(X_test), y_test), 4)}\")\n",
    "print(f\"AUC: {round(roc_auc_score(best_dt_model.predict(X_test), y_test), 4)}\")"
   ]
  },
  {
   "cell_type": "markdown",
   "id": "165",
   "metadata": {
    "papermill": {
     "duration": 0.14862,
     "end_time": "2023-07-24T08:37:50.095736",
     "exception": false,
     "start_time": "2023-07-24T08:37:49.947116",
     "status": "completed"
    },
    "tags": []
   },
   "source": [
    "# 20.6.AdaBoost Classifier"
   ]
  },
  {
   "cell_type": "code",
   "execution_count": null,
   "id": "166",
   "metadata": {
    "papermill": {
     "duration": 0.331163,
     "end_time": "2023-07-24T08:37:50.576859",
     "exception": false,
     "start_time": "2023-07-24T08:37:50.245696",
     "status": "completed"
    },
    "tags": []
   },
   "outputs": [],
   "source": [
    "ada_model = AdaBoostClassifier(random_state=46).fit(X_train, y_train)\n",
    "\n",
    "ada_pred = ada_model.predict(X_test)\n",
    "\n",
    "print(\"AdaBoost Classifier:\")\n",
    "print(f\"Accuracy: {round(accuracy_score(ada_pred, y_test), 4)}\")\n",
    "print(f\"Recall: {round(recall_score(ada_pred, y_test), 4)}\")\n",
    "print(f\"Precision: {round(precision_score(ada_pred, y_test), 4)}\")\n",
    "print(f\"F1: {round(f1_score(ada_pred, y_test), 4)}\")\n",
    "print(f\"AUC: {round(roc_auc_score(ada_pred, y_test), 4)}\")"
   ]
  },
  {
   "cell_type": "markdown",
   "id": "167",
   "metadata": {
    "papermill": {
     "duration": 0.149449,
     "end_time": "2023-07-24T08:37:50.877673",
     "exception": false,
     "start_time": "2023-07-24T08:37:50.728224",
     "status": "completed"
    },
    "tags": []
   },
   "source": [
    "# 20.6.1.AdaBoost Classifier Hyperparameter Optimization"
   ]
  },
  {
   "cell_type": "code",
   "execution_count": null,
   "id": "168",
   "metadata": {
    "papermill": {
     "duration": 15.813372,
     "end_time": "2023-07-24T08:38:06.841866",
     "exception": false,
     "start_time": "2023-07-24T08:37:51.028494",
     "status": "completed"
    },
    "tags": []
   },
   "outputs": [],
   "source": [
    "ada_model = AdaBoostClassifier(random_state=46)\n",
    "parameters = {'n_estimators': [50, 100, 200],\n",
    "              'learning_rate': [0.1, 0.5, 1.0]}\n",
    "ada_grid = GridSearchCV(ada_model, parameters, cv=5).fit(X_train, y_train)\n",
    "\n",
    "best_ada_model = ada_grid.best_estimator_\n",
    "\n",
    "print(\"AdaBoost Classifier - Hyperparameter Optimization\")\n",
    "print(f\"Best Parameters: {ada_grid.best_params_}\")\n",
    "print(f\"Accuracy: {round(ada_grid.best_score_, 4)}\")\n",
    "print(f\"Recall: {round(recall_score(best_ada_model.predict(X_test), y_test), 4)}\")\n",
    "print(f\"Precision: {round(precision_score(best_ada_model.predict(X_test), y_test), 4)}\")\n",
    "print(f\"F1: {round(f1_score(best_ada_model.predict(X_test), y_test), 4)}\")\n",
    "print(f\"AUC: {round(roc_auc_score(best_ada_model.predict(X_test), y_test), 4)}\")"
   ]
  },
  {
   "cell_type": "markdown",
   "id": "169",
   "metadata": {
    "papermill": {
     "duration": 0.150283,
     "end_time": "2023-07-24T08:38:07.144816",
     "exception": false,
     "start_time": "2023-07-24T08:38:06.994533",
     "status": "completed"
    },
    "tags": []
   },
   "source": [
    "# 20.7.Gradient Boosting Classifier"
   ]
  },
  {
   "cell_type": "code",
   "execution_count": null,
   "id": "170",
   "metadata": {
    "papermill": {
     "duration": 0.422484,
     "end_time": "2023-07-24T08:38:07.721632",
     "exception": false,
     "start_time": "2023-07-24T08:38:07.299148",
     "status": "completed"
    },
    "tags": []
   },
   "outputs": [],
   "source": [
    "gb_model = GradientBoostingClassifier(random_state=46).fit(X_train, y_train)\n",
    "\n",
    "gb_pred = gb_model.predict(X_test)\n",
    "\n",
    "print(\"Gradient Boosting Classifier:\")\n",
    "print(f\"Accuracy: {round(accuracy_score(gb_pred, y_test), 4)}\")\n",
    "print(f\"Recall: {round(recall_score(gb_pred, y_test), 4)}\")\n",
    "print(f\"Precision: {round(precision_score(gb_pred, y_test), 4)}\")\n",
    "print(f\"F1: {round(f1_score(gb_pred, y_test), 4)}\")\n",
    "print(f\"AUC: {round(roc_auc_score(gb_pred, y_test), 4)}\")"
   ]
  },
  {
   "cell_type": "code",
   "execution_count": null,
   "id": "171",
   "metadata": {
    "papermill": {
     "duration": 0.16135,
     "end_time": "2023-07-24T08:38:08.032815",
     "exception": false,
     "start_time": "2023-07-24T08:38:07.871465",
     "status": "completed"
    },
    "tags": []
   },
   "outputs": [],
   "source": [
    "def plot_importance(model, features, num=len(X), save=False):\n",
    "    feature_imp = pd.DataFrame({'Value': model.feature_importances_, 'Feature': features.columns})\n",
    "    plt.figure(figsize=(10, 10))\n",
    "    sns.set(font_scale=1)\n",
    "    sns.barplot(x=\"Value\", y=\"Feature\", data=feature_imp.sort_values(by=\"Value\", ascending=False)[0:num])\n",
    "    plt.title(f'Feature Importance - {model.__class__.__name__}')\n",
    "    plt.tight_layout()\n",
    "    plt.show(block=True)\n",
    "    if save:\n",
    "        plt.savefig('importances.png')"
   ]
  },
  {
   "cell_type": "code",
   "execution_count": null,
   "id": "172",
   "metadata": {
    "papermill": {
     "duration": 0.980678,
     "end_time": "2023-07-24T08:38:09.162588",
     "exception": false,
     "start_time": "2023-07-24T08:38:08.181910",
     "status": "completed"
    },
    "tags": []
   },
   "outputs": [],
   "source": [
    "plot_importance(gb_model, X)"
   ]
  },
  {
   "cell_type": "markdown",
   "id": "173",
   "metadata": {
    "papermill": {
     "duration": 0.151228,
     "end_time": "2023-07-24T08:38:09.480721",
     "exception": false,
     "start_time": "2023-07-24T08:38:09.329493",
     "status": "completed"
    },
    "tags": []
   },
   "source": [
    "# 20.7.1.Gradient Boosting Classifier Hyperparameter Optimization"
   ]
  },
  {
   "cell_type": "code",
   "execution_count": null,
   "id": "174",
   "metadata": {
    "papermill": {
     "duration": 11.871132,
     "end_time": "2023-07-24T08:38:21.502707",
     "exception": false,
     "start_time": "2023-07-24T08:38:09.631575",
     "status": "completed"
    },
    "tags": []
   },
   "outputs": [],
   "source": [
    "gb_model = GradientBoostingClassifier(random_state=46)\n",
    "parameters = {'n_estimators': [50, 100, 200],\n",
    "              'learning_rate': [0.1, 0.5, 1.0]}\n",
    "gb_grid = GridSearchCV(gb_model, parameters, cv=5).fit(X_train, y_train)\n",
    "\n",
    "best_gb_model = gb_grid.best_estimator_\n",
    "\n",
    "print(\"Gradient Boosting Classifier - Hyperparameter Optimization\")\n",
    "print(f\"Best Parameters: {gb_grid.best_params_}\")\n",
    "print(f\"Accuracy: {round(gb_grid.best_score_, 4)}\")\n",
    "print(f\"Recall: {round(recall_score(best_gb_model.predict(X_test), y_test), 4)}\")\n",
    "print(f\"Precision: {round(precision_score(best_gb_model.predict(X_test), y_test), 4)}\")\n",
    "print(f\"F1: {round(f1_score(best_gb_model.predict(X_test), y_test), 4)}\")\n",
    "print(f\"AUC: {round(roc_auc_score(best_gb_model.predict(X_test), y_test), 4)}\")"
   ]
  },
  {
   "cell_type": "markdown",
   "id": "175",
   "metadata": {
    "papermill": {
     "duration": 0.153851,
     "end_time": "2023-07-24T08:38:21.811186",
     "exception": false,
     "start_time": "2023-07-24T08:38:21.657335",
     "status": "completed"
    },
    "tags": []
   },
   "source": [
    "# 20.8.XGBoost Classifier"
   ]
  },
  {
   "cell_type": "code",
   "execution_count": null,
   "id": "176",
   "metadata": {
    "papermill": {
     "duration": 0.355565,
     "end_time": "2023-07-24T08:38:22.317664",
     "exception": false,
     "start_time": "2023-07-24T08:38:21.962099",
     "status": "completed"
    },
    "tags": []
   },
   "outputs": [],
   "source": [
    "xgb_model = XGBClassifier(random_state=46).fit(X_train, y_train)\n",
    "\n",
    "xgb_pred = xgb_model.predict(X_test)\n",
    "\n",
    "print(\"XGBoost Classifier:\")\n",
    "print(f\"Accuracy: {round(accuracy_score(xgb_pred, y_test), 4)}\")\n",
    "print(f\"Recall: {round(recall_score(xgb_pred, y_test), 4)}\")\n",
    "print(f\"Precision: {round(precision_score(xgb_pred, y_test), 4)}\")\n",
    "print(f\"F1: {round(f1_score(xgb_pred, y_test), 4)}\")\n",
    "print(f\"AUC: {round(roc_auc_score(xgb_pred, y_test), 4)}\")"
   ]
  },
  {
   "cell_type": "code",
   "execution_count": null,
   "id": "177",
   "metadata": {
    "papermill": {
     "duration": 0.164627,
     "end_time": "2023-07-24T08:38:22.636283",
     "exception": false,
     "start_time": "2023-07-24T08:38:22.471656",
     "status": "completed"
    },
    "tags": []
   },
   "outputs": [],
   "source": [
    "def plot_importance(model, features, num=len(X), save=False):\n",
    "    feature_imp = pd.DataFrame({'Value': model.feature_importances_, 'Feature': features.columns})\n",
    "    plt.figure(figsize=(10, 10))\n",
    "    sns.set(font_scale=1)\n",
    "    sns.barplot(x=\"Value\", y=\"Feature\", data=feature_imp.sort_values(by=\"Value\", ascending=False)[0:num])\n",
    "    plt.title(f'Feature Importance - {model.__class__.__name__}')\n",
    "    plt.tight_layout()\n",
    "    plt.show(block=True)\n",
    "    if save:\n",
    "        plt.savefig('importances.png')"
   ]
  },
  {
   "cell_type": "code",
   "execution_count": null,
   "id": "178",
   "metadata": {
    "papermill": {
     "duration": 1.044262,
     "end_time": "2023-07-24T08:38:23.831725",
     "exception": false,
     "start_time": "2023-07-24T08:38:22.787463",
     "status": "completed"
    },
    "tags": []
   },
   "outputs": [],
   "source": [
    "plot_importance(xgb_model, X)"
   ]
  },
  {
   "cell_type": "markdown",
   "id": "179",
   "metadata": {
    "papermill": {
     "duration": 0.155444,
     "end_time": "2023-07-24T08:38:24.153937",
     "exception": false,
     "start_time": "2023-07-24T08:38:23.998493",
     "status": "completed"
    },
    "tags": []
   },
   "source": [
    "# 20.8.1.XGBoost Classifier Hyperparameter Optimization"
   ]
  },
  {
   "cell_type": "code",
   "execution_count": null,
   "id": "180",
   "metadata": {
    "papermill": {
     "duration": 7.346231,
     "end_time": "2023-07-24T08:38:31.655846",
     "exception": false,
     "start_time": "2023-07-24T08:38:24.309615",
     "status": "completed"
    },
    "tags": []
   },
   "outputs": [],
   "source": [
    "xgb_model = XGBClassifier(random_state=46)\n",
    "parameters = {'n_estimators': [50, 100, 200],\n",
    "              'learning_rate': [0.1, 0.5, 1.0]}\n",
    "xgb_grid = GridSearchCV(xgb_model, parameters, cv=5).fit(X_train, y_train)\n",
    "\n",
    "best_xgb_model = xgb_grid.best_estimator_\n",
    "\n",
    "print(\"XGBoost Classifier - Hyperparameter Optimization\")\n",
    "print(f\"Best Parameters: {xgb_grid.best_params_}\")\n",
    "print(f\"Accuracy: {round(xgb_grid.best_score_, 4)}\")\n",
    "print(f\"Recall: {round(recall_score(best_xgb_model.predict(X_test), y_test), 4)}\")\n",
    "print(f\"Precision: {round(precision_score(best_xgb_model.predict(X_test), y_test), 4)}\")\n",
    "print(f\"F1: {round(f1_score(best_xgb_model.predict(X_test), y_test), 4)}\")\n",
    "print(f\"AUC: {round(roc_auc_score(best_xgb_model.predict(X_test), y_test), 4)}\")\n"
   ]
  },
  {
   "cell_type": "markdown",
   "id": "181",
   "metadata": {
    "papermill": {
     "duration": 0.15532,
     "end_time": "2023-07-24T08:38:31.971255",
     "exception": false,
     "start_time": "2023-07-24T08:38:31.815935",
     "status": "completed"
    },
    "tags": []
   },
   "source": [
    "# 20.9.LightGBM Classifier"
   ]
  },
  {
   "cell_type": "code",
   "execution_count": null,
   "id": "182",
   "metadata": {
    "papermill": {
     "duration": 0.556191,
     "end_time": "2023-07-24T08:38:32.684881",
     "exception": false,
     "start_time": "2023-07-24T08:38:32.128690",
     "status": "completed"
    },
    "tags": []
   },
   "outputs": [],
   "source": [
    "lgbm_model = LGBMClassifier(random_state=46).fit(X_train, y_train)\n",
    "\n",
    "lgbm_pred = lgbm_model.predict(X_test)\n",
    "\n",
    "print(\"LightGBM Classifier:\")\n",
    "print(f\"Accuracy: {round(accuracy_score(lgbm_pred, y_test), 4)}\")\n",
    "print(f\"Recall: {round(recall_score(lgbm_pred, y_test), 4)}\")\n",
    "print(f\"Precision: {round(precision_score(lgbm_pred, y_test), 4)}\")\n",
    "print(f\"F1: {round(f1_score(lgbm_pred, y_test), 4)}\")\n",
    "print(f\"AUC: {round(roc_auc_score(lgbm_pred, y_test), 4)}\")"
   ]
  },
  {
   "cell_type": "code",
   "execution_count": null,
   "id": "183",
   "metadata": {
    "papermill": {
     "duration": 0.166555,
     "end_time": "2023-07-24T08:38:33.005742",
     "exception": false,
     "start_time": "2023-07-24T08:38:32.839187",
     "status": "completed"
    },
    "tags": []
   },
   "outputs": [],
   "source": [
    "def plot_importance(model, features, num=len(X), save=False):\n",
    "    feature_imp = pd.DataFrame({'Value': model.feature_importances_, 'Feature': features.columns})\n",
    "    plt.figure(figsize=(10, 10))\n",
    "    sns.set(font_scale=1)\n",
    "    sns.barplot(x=\"Value\", y=\"Feature\", data=feature_imp.sort_values(by=\"Value\", ascending=False)[0:num])\n",
    "    plt.title(f'Feature Importance - {model.__class__.__name__}')\n",
    "    plt.tight_layout()\n",
    "    plt.show(block=True)\n",
    "    if save:\n",
    "        plt.savefig('importances.png')"
   ]
  },
  {
   "cell_type": "code",
   "execution_count": null,
   "id": "184",
   "metadata": {
    "papermill": {
     "duration": 0.976171,
     "end_time": "2023-07-24T08:38:34.135390",
     "exception": false,
     "start_time": "2023-07-24T08:38:33.159219",
     "status": "completed"
    },
    "tags": []
   },
   "outputs": [],
   "source": [
    "plot_importance(lgbm_model, X)"
   ]
  },
  {
   "cell_type": "markdown",
   "id": "185",
   "metadata": {
    "papermill": {
     "duration": 0.154982,
     "end_time": "2023-07-24T08:38:34.456149",
     "exception": false,
     "start_time": "2023-07-24T08:38:34.301167",
     "status": "completed"
    },
    "tags": []
   },
   "source": [
    "# 20.9.1.LightGBM Classifier Hyperparameter Optimization"
   ]
  },
  {
   "cell_type": "code",
   "execution_count": null,
   "id": "186",
   "metadata": {
    "papermill": {
     "duration": 13.763622,
     "end_time": "2023-07-24T08:38:48.374742",
     "exception": false,
     "start_time": "2023-07-24T08:38:34.611120",
     "status": "completed"
    },
    "tags": []
   },
   "outputs": [],
   "source": [
    "\n",
    "lgbm_model = LGBMClassifier(random_state=46)\n",
    "parameters = {'n_estimators': [50, 100, 200],\n",
    "              'learning_rate': [0.1, 0.5, 1.0]}\n",
    "lgbm_grid = GridSearchCV(lgbm_model, parameters, cv=5).fit(X_train, y_train)\n",
    "\n",
    "best_lgbm_model = lgbm_grid.best_estimator_\n",
    "\n",
    "print(\"LightGBM Classifier - Hyperparameter Optimization\")\n",
    "print(f\"Best Parameters: {lgbm_grid.best_params_}\")\n",
    "print(f\"Accuracy: {round(lgbm_grid.best_score_, 4)}\")\n",
    "print(f\"Recall: {round(recall_score(best_lgbm_model.predict(X_test), y_test), 4)}\")\n",
    "print(f\"Precision: {round(precision_score(best_lgbm_model.predict(X_test), y_test), 4)}\")\n",
    "print(f\"F1: {round(f1_score(best_lgbm_model.predict(X_test), y_test), 4)}\")\n",
    "print(f\"AUC: {round(roc_auc_score(best_lgbm_model.predict(X_test), y_test), 4)}\")"
   ]
  },
  {
   "cell_type": "markdown",
   "id": "187",
   "metadata": {
    "papermill": {
     "duration": 0.157334,
     "end_time": "2023-07-24T08:38:48.689738",
     "exception": false,
     "start_time": "2023-07-24T08:38:48.532404",
     "status": "completed"
    },
    "tags": []
   },
   "source": [
    "# 20.10.Comparison of Metrics for Different Models After Feature Engineering"
   ]
  },
  {
   "cell_type": "code",
   "execution_count": null,
   "id": "188",
   "metadata": {
    "papermill": {
     "duration": 0.193881,
     "end_time": "2023-07-24T08:38:49.043606",
     "exception": false,
     "start_time": "2023-07-24T08:38:48.849725",
     "status": "completed"
    },
    "tags": []
   },
   "outputs": [],
   "source": [
    "# Dictionary containing the metric results\n",
    "metrics = {\n",
    "    \"Model\": [\"Random Forest\", \"Logistic Regression\", \"KNN\", \"SVC\", \"Decision Tree\", \"AdaBoost\", \"Gradient Boosting\", \"XGBoost\", \"LightGBM\"],\n",
    "    \"Accuracy\": [0.7749, 0.7532, 0.7792, 0.7792, 0.7229, 0.7662, 0.7532, 0.7879, 0.7662],\n",
    "    \"Recall\": [0.7101, 0.6875, 0.7027, 0.7419, 0.5955, 0.6957, 0.6667, 0.7105, 0.7015],\n",
    "    \"Precision\": [0.6049, 0.5432, 0.642, 0.5679, 0.6543, 0.5926, 0.5926, 0.6667, 0.5802],\n",
    "    \"F1\": [0.6533, 0.6069, 0.671, 0.6434, 0.6235, 0.64, 0.6275, 0.6879, 0.6351],\n",
    "    \"AUC\": [0.7563, 0.733, 0.759, 0.7674, 0.6992, 0.746, 0.7296, 0.7682, 0.7471]\n",
    "}\n",
    "\n",
    "# Creating a DataFrame from the metrics dictionary\n",
    "results_df = pd.DataFrame(metrics)\n",
    "\n",
    "# Sorting the DataFrame by accuracy in descending order\n",
    "results_df = results_df.sort_values(by=\"Accuracy\", ascending=False)\n",
    "\n",
    "# Creating the figure for the graph\n",
    "fig = go.Figure()\n",
    "\n",
    "# Colors for the metrics\n",
    "colors = [\"purple\", \"green\", \"blue\", \"orange\", \"red\"]\n",
    "\n",
    "# Adding traces for each metric in the specified order\n",
    "for metric, color in zip([\"Accuracy\", \"Recall\", \"Precision\", \"F1\", \"AUC\"], colors):\n",
    "    fig.add_trace(go.Bar(\n",
    "        x=results_df[\"Model\"],\n",
    "        y=results_df[metric],\n",
    "        marker_color=color,\n",
    "        name=metric,\n",
    "        text=results_df[metric],\n",
    "        textposition='auto'\n",
    "    ))\n",
    "\n",
    "# Setting axis labels and title\n",
    "fig.update_layout(\n",
    "    xaxis_title=\"Model\",\n",
    "    yaxis_title=\"Metric Score\",\n",
    "    title=\"Comparison of Metrics for Different Models After Feature Engineering\"\n",
    ")\n",
    "\n",
    "# Displaying the graph\n",
    "fig.show(block=True)\n"
   ]
  },
  {
   "cell_type": "markdown",
   "id": "189",
   "metadata": {
    "papermill": {
     "duration": 0.159218,
     "end_time": "2023-07-24T08:38:49.361025",
     "exception": false,
     "start_time": "2023-07-24T08:38:49.201807",
     "status": "completed"
    },
    "tags": []
   },
   "source": [
    "# 20.11.Comparison of Metrics for Different Models After Hyperparameter Optimization"
   ]
  },
  {
   "cell_type": "code",
   "execution_count": null,
   "id": "190",
   "metadata": {
    "papermill": {
     "duration": 0.194104,
     "end_time": "2023-07-24T08:38:49.712288",
     "exception": false,
     "start_time": "2023-07-24T08:38:49.518184",
     "status": "completed"
    },
    "tags": []
   },
   "outputs": [],
   "source": [
    "# Dictionary containing the metric results\n",
    "metrics = {\n",
    "    \"Model\": [\"Random Forest\", \"Logistic Regression\", \"KNN\", \"SVC\", \"Decision Tree\", \"AdaBoost\", \"Gradient Boosting\", \"XGBoost\", \"LightGBM\"],\n",
    "    \"Accuracy\": [0.7749, 0.7654, 0.7487, 0.7691, 0.7188, 0.745, 0.771, 0.758, 0.7487],\n",
    "    \"Recall\": [0.6986, 0.6875, 0.6986, 0.7049, 0.618, 0.7, 0.6901, 0.6835, 0.6579],\n",
    "    \"Precision\": [0.6296, 0.5432, 0.6296, 0.5309, 0.679, 0.6049, 0.6049, 0.6667, 0.6173],\n",
    "    \"F1\": [0.6623, 0.6069, 0.6623, 0.6056, 0.6471, 0.649, 0.6447, 0.675, 0.6369],\n",
    "    \"AUC\": [0.7544, 0.733, 0.7544, 0.7407, 0.7174, 0.7506, 0.7451, 0.753, 0.7289]\n",
    "}\n",
    "\n",
    "# Creating a DataFrame from the metrics dictionary\n",
    "results_df = pd.DataFrame(metrics)\n",
    "\n",
    "# Sorting the DataFrame by accuracy in descending order\n",
    "results_df = results_df.sort_values(by=\"Accuracy\", ascending=False)\n",
    "\n",
    "# Creating the figure for the graph\n",
    "fig = go.Figure()\n",
    "\n",
    "# Colors for the metrics\n",
    "colors = [\"purple\", \"green\", \"blue\", \"orange\", \"red\"]\n",
    "\n",
    "# Adding traces for each metric in the specified order\n",
    "for metric, color in zip([\"Accuracy\", \"Recall\", \"Precision\", \"F1\", \"AUC\"], colors):\n",
    "    fig.add_trace(go.Bar(\n",
    "        x=results_df[\"Model\"],\n",
    "        y=results_df[metric],\n",
    "        marker_color=color,\n",
    "        name=metric,\n",
    "        text=results_df[metric],\n",
    "        textposition='auto'\n",
    "    ))\n",
    "\n",
    "# Setting axis labels and title\n",
    "fig.update_layout(\n",
    "    xaxis_title=\"Model\",\n",
    "    yaxis_title=\"Metric Score\",\n",
    "    title=\"Comparison of Metrics for Different Models After Hyperparameter Optimization\"\n",
    ")\n",
    "\n",
    "# Displaying the graph\n",
    "fig.show(block=True)\n"
   ]
  },
  {
   "cell_type": "markdown",
   "id": "191",
   "metadata": {
    "papermill": {
     "duration": 0.157532,
     "end_time": "2023-07-24T08:38:50.027690",
     "exception": false,
     "start_time": "2023-07-24T08:38:49.870158",
     "status": "completed"
    },
    "tags": []
   },
   "source": [
    "# 20.12.Comparison of Metrics Before and After Hyperparameter Optimization"
   ]
  },
  {
   "cell_type": "code",
   "execution_count": null,
   "id": "192",
   "metadata": {
    "papermill": {
     "duration": 0.675062,
     "end_time": "2023-07-24T08:38:50.861948",
     "exception": false,
     "start_time": "2023-07-24T08:38:50.186886",
     "status": "completed"
    },
    "tags": []
   },
   "outputs": [],
   "source": [
    "# Metric names\n",
    "metrics = [\"Accuracy\", \"Recall\", \"Precision\", \"F1\", \"AUC\"]\n",
    "\n",
    "# Metric values before hyperparameter optimization\n",
    "before_values = [0.7749, 0.7101, 0.6049, 0.6533, 0.7563]\n",
    "\n",
    "# Metric values after hyperparameter optimization\n",
    "after_values = [0.7749, 0.6986, 0.6296, 0.6623, 0.7544]\n",
    "\n",
    "# Index for the x-axis\n",
    "x = np.arange(len(metrics))\n",
    "\n",
    "# Width of the bars\n",
    "width = 0.35\n",
    "\n",
    "# Creating the figure and axes\n",
    "fig, ax = plt.subplots()\n",
    "\n",
    "# Plotting the bars for before values\n",
    "rects1 = ax.bar(x - width/2, before_values, width, label='Before')\n",
    "\n",
    "# Plotting the bars for after values\n",
    "rects2 = ax.bar(x + width/2, after_values, width, label='After')\n",
    "\n",
    "# Setting labels and title\n",
    "ax.set_xlabel('Metrics')\n",
    "ax.set_ylabel('Metric Score')\n",
    "ax.set_title('Comparison of Metrics Before and After Hyperparameter Optimization')\n",
    "ax.set_xticks(x)\n",
    "ax.set_xticklabels(metrics)\n",
    "ax.legend()\n",
    "\n",
    "# Function to attach the metric values on top of the bars\n",
    "def autolabel(rects):\n",
    "    for rect in rects:\n",
    "        height = rect.get_height()\n",
    "        ax.annotate(f'{round(height, 4)}', xy=(rect.get_x() + rect.get_width() / 2, height),\n",
    "                    xytext=(0, 3), textcoords='offset points',\n",
    "                    ha='center', va='bottom')\n",
    "\n",
    "# Attaching metric values on top of the bars\n",
    "autolabel(rects1)\n",
    "autolabel(rects2)\n",
    "\n",
    "# Displaying the plot\n",
    "plt.show()\n"
   ]
  }
 ],
 "metadata": {
  "kernelspec": {
   "display_name": "Python 3",
   "language": "python",
   "name": "python3"
  },
  "language_info": {
   "codemirror_mode": {
    "name": "ipython",
    "version": 3
   },
   "file_extension": ".py",
   "mimetype": "text/x-python",
   "name": "python",
   "nbconvert_exporter": "python",
   "pygments_lexer": "ipython3",
   "version": "3.10.12"
  },
  "papermill": {
   "default_parameters": {},
   "duration": 246.104657,
   "end_time": "2023-07-24T08:38:52.756562",
   "environment_variables": {},
   "exception": null,
   "input_path": "__notebook__.ipynb",
   "output_path": "__notebook__.ipynb",
   "parameters": {},
   "start_time": "2023-07-24T08:34:46.651905",
   "version": "2.4.0"
  }
 },
 "nbformat": 4,
 "nbformat_minor": 5
}
